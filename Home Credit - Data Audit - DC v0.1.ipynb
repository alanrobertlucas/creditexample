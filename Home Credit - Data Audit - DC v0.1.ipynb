{
 "cells": [
  {
   "cell_type": "markdown",
   "metadata": {},
   "source": [
    "# Home Credit Project - Data Audit\n",
    "\n",
    "## Header\n",
    "Version 0.1\n",
    "\n",
    "Date: 20/06/2024\n",
    "\n",
    "Author: Dale Chancellor"
   ]
  },
  {
   "cell_type": "markdown",
   "metadata": {},
   "source": [
    "### Code Purpose\n",
    "This code perfroms simple data quality checks on the datasets to be used for the Home Credit Model Build project on Kaggle (https://www.kaggle.com/competitions/home-credit-credit-risk-model-stability/overview)\n"
   ]
  },
  {
   "cell_type": "markdown",
   "metadata": {},
   "source": [
    "### 0. Setup"
   ]
  },
  {
   "cell_type": "code",
   "execution_count": 137,
   "metadata": {},
   "outputs": [],
   "source": [
    "# Import libraries\n",
    "import pandas as pd\n",
    "import numpy as np"
   ]
  },
  {
   "cell_type": "code",
   "execution_count": 138,
   "metadata": {},
   "outputs": [],
   "source": [
    "# Define data location\n",
    "train_path = str('../Data/train')\n",
    "test_path = str('../Data/test')"
   ]
  },
  {
   "cell_type": "code",
   "execution_count": 139,
   "metadata": {},
   "outputs": [],
   "source": [
    "# Threshold to classify as continuous\n",
    "cont_threshold = 20\n",
    "\n",
    "# List of datasets to be analysed\n",
    "target_csvs = ['train_tax_registry_a_1','train_tax_registry_b_1','train_tax_registry_c_1']\n",
    "\n",
    "# continuous variable classifier\n",
    "classify_cont = lambda x: True if x > cont_threshold else False"
   ]
  },
  {
   "cell_type": "markdown",
   "metadata": {},
   "source": [
    "### 1. Functions"
   ]
  },
  {
   "cell_type": "markdown",
   "metadata": {},
   "source": [
    "Column Stats: \n",
    ",unique values\n",
    ",data type\n",
    ",table name\n",
    "\n",
    "Overall Stats\n",
    "number of.. categorical, continuous, numeric, character\n",
    ",Total rows\n",
    ",Missings (any)\n",
    ",Missing ID?\n",
    ",ID variables\n",
    "\n",
    "NB: Dates may be read as categorical if stored as text, some INT categories may be ID variables"
   ]
  },
  {
   "cell_type": "code",
   "execution_count": 142,
   "metadata": {},
   "outputs": [],
   "source": [
    "def variable_summary(input_df):\n",
    "    ## Column stats\n",
    "    # Count number of unique values\n",
    "    input_uniqvals = pd.DataFrame(input_df.nunique(axis=0),columns=[\"Unique Values\"])\n",
    "\n",
    "    # Get the data types of each column\n",
    "    input_dtypes = pd.DataFrame(input_df.dtypes, columns=['Data Type'])\n",
    "\n",
    "    # Merge to create one dataframe\n",
    "    var_summary = pd.merge(left=input_uniqvals,right=input_dtypes,left_index=True,right_index=True)\n",
    "    \n",
    "    # Get total number of missings per column\n",
    "    var_summary['Missings'] = input_df.isna().sum()\n",
    "\n",
    "    # Get continuous and categorical variables\n",
    "    var_summary['Variable Type'] = np.where((var_summary['Unique Values'].apply(classify_cont)) \n",
    "                                            & (var_summary['Data Type'] != 'object'), 'Continuous', 'Categorical')\n",
    "\n",
    "    # Table name\n",
    "    var_summary['Table Name'] = table_name\n",
    "    # Get total number of rows\n",
    "    var_summary['Total Rows'] = input.shape[0]\n",
    "\n",
    "    var_summary.index.name='Variable Name'\n",
    "\n",
    "    return var_summary\n",
    "\n"
   ]
  },
  {
   "cell_type": "code",
   "execution_count": 143,
   "metadata": {},
   "outputs": [],
   "source": [
    "def table_summary(input_df):\n",
    "    # Define index for tables\n",
    "    overall_index = pd.Index(data=[table_name],name='Table Name')\n",
    "\n",
    "    # Create blank DataFrame\n",
    "    overall_summary = pd.DataFrame(index=overall_index)\n",
    "\n",
    "    # Get total number of variables\n",
    "    overall_summary['Total Vars'] = input_df.shape[1]\n",
    "    # Total number of rows\n",
    "    overall_summary['Total Rows'] = input_df.shape[0]\n",
    "\n",
    "    # Number of categorical and continuous vars\n",
    "    cat_con = var_summary.groupby('Variable Type').count()['Total Rows'].to_frame().T\n",
    "    cat_con.set_index(overall_index, inplace=True)\n",
    "\n",
    "    # Join Categorical and Continuous to overall table\n",
    "    overall_summary = pd.merge(left=overall_summary, right=cat_con, left_index = True, right_index=True)\n",
    "\n",
    "    # Count total number of rows with any missing\n",
    "    overall_summary['Any Missing'] = np.count_nonzero(input_df.isna().sum(axis=1))\n",
    "\n",
    "    return overall_summary\n"
   ]
  },
  {
   "cell_type": "markdown",
   "metadata": {},
   "source": [
    "### 2. Function Execution"
   ]
  },
  {
   "cell_type": "code",
   "execution_count": 144,
   "metadata": {},
   "outputs": [
    {
     "name": "stdout",
     "output_type": "stream",
     "text": [
      "                     Unique Values Data Type  Missings Variable Type  \\\n",
      "Variable Name                                                          \n",
      "case_id                     457934     int64         0    Continuous   \n",
      "amount_4527230A              92743   float64         0    Continuous   \n",
      "name_4527232M               147037    object         0   Categorical   \n",
      "num_group1                      99     int64         0    Continuous   \n",
      "recorddate_4527225D            397    object         0   Categorical   \n",
      "\n",
      "                                 Table Name  Total Rows  \n",
      "Variable Name                                            \n",
      "case_id              train_tax_registry_a_1     3275770  \n",
      "amount_4527230A      train_tax_registry_a_1     3275770  \n",
      "name_4527232M        train_tax_registry_a_1     3275770  \n",
      "num_group1           train_tax_registry_a_1     3275770  \n",
      "recorddate_4527225D  train_tax_registry_a_1     3275770  \n",
      "                        Total Vars  Total Rows  Categorical  Continuous  \\\n",
      "Table Name                                                                \n",
      "train_tax_registry_a_1           5     3275770            2           3   \n",
      "\n",
      "                        Any Missing  \n",
      "Table Name                           \n",
      "train_tax_registry_a_1            0  \n",
      "                        Unique Values Data Type  Missings Variable Type  \\\n",
      "Variable Name                                                             \n",
      "case_id                        150732     int64         0    Continuous   \n",
      "amount_4917619A                191635   float64         0    Continuous   \n",
      "deductiondate_4917603D            260    object         0   Categorical   \n",
      "name_4917606M                   55857    object         0   Categorical   \n",
      "num_group1                        101     int64         0    Continuous   \n",
      "\n",
      "                                    Table Name  Total Rows  \n",
      "Variable Name                                               \n",
      "case_id                 train_tax_registry_b_1     1107933  \n",
      "amount_4917619A         train_tax_registry_b_1     1107933  \n",
      "deductiondate_4917603D  train_tax_registry_b_1     1107933  \n",
      "name_4917606M           train_tax_registry_b_1     1107933  \n",
      "num_group1              train_tax_registry_b_1     1107933  \n",
      "                        Total Vars  Total Rows  Categorical  Continuous  \\\n",
      "Table Name                                                                \n",
      "train_tax_registry_b_1           5     1107933            2           3   \n",
      "\n",
      "                        Any Missing  \n",
      "Table Name                           \n",
      "train_tax_registry_b_1            0  \n",
      "                     Unique Values Data Type  Missings Variable Type  \\\n",
      "Variable Name                                                          \n",
      "case_id                     482265     int64         0    Continuous   \n",
      "employername_160M           152835    object         0   Categorical   \n",
      "num_group1                     121     int64         0    Continuous   \n",
      "pmtamount_36A               572321   float64         0    Continuous   \n",
      "processingdate_168D            325    object         0   Categorical   \n",
      "\n",
      "                                 Table Name  Total Rows  \n",
      "Variable Name                                            \n",
      "case_id              train_tax_registry_c_1     3343800  \n",
      "employername_160M    train_tax_registry_c_1     3343800  \n",
      "num_group1           train_tax_registry_c_1     3343800  \n",
      "pmtamount_36A        train_tax_registry_c_1     3343800  \n",
      "processingdate_168D  train_tax_registry_c_1     3343800  \n",
      "                        Total Vars  Total Rows  Categorical  Continuous  \\\n",
      "Table Name                                                                \n",
      "train_tax_registry_c_1           5     3343800            2           3   \n",
      "\n",
      "                        Any Missing  \n",
      "Table Name                           \n",
      "train_tax_registry_c_1            0  \n"
     ]
    }
   ],
   "source": [
    "for table_name in target_csvs:\n",
    "    # Import table\n",
    "    input = pd.read_csv(train_path+'/'+table_name+'.csv')\n",
    "\n",
    "    # Variable summary\n",
    "    var_summ = variable_summary(input)\n",
    "    print(var_summ)\n",
    "\n",
    "    # Overall Summary\n",
    "    over_summ = table_summary(input)\n",
    "    print(over_summ)"
   ]
  },
  {
   "cell_type": "code",
   "execution_count": null,
   "metadata": {},
   "outputs": [],
   "source": []
  }
 ],
 "metadata": {
  "kernelspec": {
   "display_name": ".venv",
   "language": "python",
   "name": "python3"
  },
  "language_info": {
   "codemirror_mode": {
    "name": "ipython",
    "version": 3
   },
   "file_extension": ".py",
   "mimetype": "text/x-python",
   "name": "python",
   "nbconvert_exporter": "python",
   "pygments_lexer": "ipython3",
   "version": "3.12.3"
  }
 },
 "nbformat": 4,
 "nbformat_minor": 2
}
