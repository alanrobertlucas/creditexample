{
 "cells": [
  {
   "cell_type": "markdown",
   "metadata": {},
   "source": [
    "# Home Credit Program 1"
   ]
  },
  {
   "cell_type": "code",
   "execution_count": 5,
   "metadata": {},
   "outputs": [],
   "source": [
    "# Program hc02\n",
    "\n",
    "# Libraries and settings\n",
    "import numpy as np\n",
    "import pandas as pd\n",
    "\n",
    "import pandas as pd\n",
    "import numpy as np\n",
    "from sklearn.model_selection import train_test_split\n",
    "from sklearn import linear_model\n",
    "from sklearn.preprocessing import StandardScaler\n",
    "from sklearn.metrics import mean_squared_error\n",
    "from sklearn.linear_model import LinearRegression\n",
    "from sklearn.tree import DecisionTreeRegressor\n",
    "from sklearn.ensemble import RandomForestRegressor\n",
    "from xgboost import XGBRegressor\n",
    "import matplotlib.pyplot as plt\n",
    "# import seaborn as sns\n",
    "\n",
    "# Use this to turn warnings off (needed for the sklearn regression)\n",
    "import warnings\n",
    "\n",
    "import plotly.express as px\n",
    "import statsmodels.api as sm\n",
    "\n"
   ]
  },
  {
   "cell_type": "code",
   "execution_count": 6,
   "metadata": {},
   "outputs": [],
   "source": [
    "pd.set_option('display.max_rows', 1000)\n",
    "pd.options.display.float_format = \"{:,.0f}\".format\n",
    "np.set_printoptions(linewidth=120)\n",
    "cr=\"\\n\\n\"\n",
    "\n",
    "def shrink(x,d,m):\n",
    "    lower=np.subtract(x,d)\n",
    "    upper=np.add(x,d)\n",
    "    mean_below_lower=np.where(m<lower,lower,0)\n",
    "    mean_above_upper=np.where(m>upper,upper,0)\n",
    "    combined=mean_below_lower+mean_above_upper\n",
    "    together=np.where(combined==0,m,combined)\n",
    "    return(together)"
   ]
  },
  {
   "cell_type": "code",
   "execution_count": 9,
   "metadata": {},
   "outputs": [
    {
     "name": "stdout",
     "output_type": "stream",
     "text": [
      "180921.19589041095\n"
     ]
    }
   ],
   "source": [
    "train=pd.read_csv('train.csv')\n",
    "test=pd.read_csv('test.csv')\n",
    "train.describe()\n",
    "print(train.SalePrice.mean())"
   ]
  },
  {
   "cell_type": "code",
   "execution_count": 35,
   "metadata": {},
   "outputs": [],
   "source": [
    "#train.head(100)"
   ]
  },
  {
   "cell_type": "code",
   "execution_count": 11,
   "metadata": {},
   "outputs": [
    {
     "name": "stdout",
     "output_type": "stream",
     "text": [
      "Full train dataset shape is (1460, 81)\n",
      "Full test dataset shape is (1459, 80)\n"
     ]
    }
   ],
   "source": [
    "print(\"Full train dataset shape is {}\".format(train.shape))\n",
    "print(\"Full test dataset shape is {}\".format(test.shape))\n"
   ]
  },
  {
   "cell_type": "code",
   "execution_count": 12,
   "metadata": {},
   "outputs": [
    {
     "data": {
      "text/html": [
       "<div>\n",
       "<style scoped>\n",
       "    .dataframe tbody tr th:only-of-type {\n",
       "        vertical-align: middle;\n",
       "    }\n",
       "\n",
       "    .dataframe tbody tr th {\n",
       "        vertical-align: top;\n",
       "    }\n",
       "\n",
       "    .dataframe thead th {\n",
       "        text-align: right;\n",
       "    }\n",
       "</style>\n",
       "<table border=\"1\" class=\"dataframe\">\n",
       "  <thead>\n",
       "    <tr style=\"text-align: right;\">\n",
       "      <th></th>\n",
       "      <th>Unique Values</th>\n",
       "    </tr>\n",
       "  </thead>\n",
       "  <tbody>\n",
       "    <tr>\n",
       "      <th>Id</th>\n",
       "      <td>1460</td>\n",
       "    </tr>\n",
       "    <tr>\n",
       "      <th>MSSubClass</th>\n",
       "      <td>15</td>\n",
       "    </tr>\n",
       "    <tr>\n",
       "      <th>MSZoning</th>\n",
       "      <td>5</td>\n",
       "    </tr>\n",
       "    <tr>\n",
       "      <th>LotFrontage</th>\n",
       "      <td>110</td>\n",
       "    </tr>\n",
       "    <tr>\n",
       "      <th>LotArea</th>\n",
       "      <td>1073</td>\n",
       "    </tr>\n",
       "    <tr>\n",
       "      <th>Street</th>\n",
       "      <td>2</td>\n",
       "    </tr>\n",
       "    <tr>\n",
       "      <th>Alley</th>\n",
       "      <td>2</td>\n",
       "    </tr>\n",
       "    <tr>\n",
       "      <th>LotShape</th>\n",
       "      <td>4</td>\n",
       "    </tr>\n",
       "    <tr>\n",
       "      <th>LandContour</th>\n",
       "      <td>4</td>\n",
       "    </tr>\n",
       "    <tr>\n",
       "      <th>Utilities</th>\n",
       "      <td>2</td>\n",
       "    </tr>\n",
       "    <tr>\n",
       "      <th>LotConfig</th>\n",
       "      <td>5</td>\n",
       "    </tr>\n",
       "    <tr>\n",
       "      <th>LandSlope</th>\n",
       "      <td>3</td>\n",
       "    </tr>\n",
       "    <tr>\n",
       "      <th>Neighborhood</th>\n",
       "      <td>25</td>\n",
       "    </tr>\n",
       "    <tr>\n",
       "      <th>Condition1</th>\n",
       "      <td>9</td>\n",
       "    </tr>\n",
       "    <tr>\n",
       "      <th>Condition2</th>\n",
       "      <td>8</td>\n",
       "    </tr>\n",
       "    <tr>\n",
       "      <th>BldgType</th>\n",
       "      <td>5</td>\n",
       "    </tr>\n",
       "    <tr>\n",
       "      <th>HouseStyle</th>\n",
       "      <td>8</td>\n",
       "    </tr>\n",
       "    <tr>\n",
       "      <th>OverallQual</th>\n",
       "      <td>10</td>\n",
       "    </tr>\n",
       "    <tr>\n",
       "      <th>OverallCond</th>\n",
       "      <td>9</td>\n",
       "    </tr>\n",
       "    <tr>\n",
       "      <th>YearBuilt</th>\n",
       "      <td>112</td>\n",
       "    </tr>\n",
       "    <tr>\n",
       "      <th>YearRemodAdd</th>\n",
       "      <td>61</td>\n",
       "    </tr>\n",
       "    <tr>\n",
       "      <th>RoofStyle</th>\n",
       "      <td>6</td>\n",
       "    </tr>\n",
       "    <tr>\n",
       "      <th>RoofMatl</th>\n",
       "      <td>8</td>\n",
       "    </tr>\n",
       "    <tr>\n",
       "      <th>Exterior1st</th>\n",
       "      <td>15</td>\n",
       "    </tr>\n",
       "    <tr>\n",
       "      <th>Exterior2nd</th>\n",
       "      <td>16</td>\n",
       "    </tr>\n",
       "    <tr>\n",
       "      <th>MasVnrType</th>\n",
       "      <td>3</td>\n",
       "    </tr>\n",
       "    <tr>\n",
       "      <th>MasVnrArea</th>\n",
       "      <td>327</td>\n",
       "    </tr>\n",
       "    <tr>\n",
       "      <th>ExterQual</th>\n",
       "      <td>4</td>\n",
       "    </tr>\n",
       "    <tr>\n",
       "      <th>ExterCond</th>\n",
       "      <td>5</td>\n",
       "    </tr>\n",
       "    <tr>\n",
       "      <th>Foundation</th>\n",
       "      <td>6</td>\n",
       "    </tr>\n",
       "    <tr>\n",
       "      <th>BsmtQual</th>\n",
       "      <td>4</td>\n",
       "    </tr>\n",
       "    <tr>\n",
       "      <th>BsmtCond</th>\n",
       "      <td>4</td>\n",
       "    </tr>\n",
       "    <tr>\n",
       "      <th>BsmtExposure</th>\n",
       "      <td>4</td>\n",
       "    </tr>\n",
       "    <tr>\n",
       "      <th>BsmtFinType1</th>\n",
       "      <td>6</td>\n",
       "    </tr>\n",
       "    <tr>\n",
       "      <th>BsmtFinSF1</th>\n",
       "      <td>637</td>\n",
       "    </tr>\n",
       "    <tr>\n",
       "      <th>BsmtFinType2</th>\n",
       "      <td>6</td>\n",
       "    </tr>\n",
       "    <tr>\n",
       "      <th>BsmtFinSF2</th>\n",
       "      <td>144</td>\n",
       "    </tr>\n",
       "    <tr>\n",
       "      <th>BsmtUnfSF</th>\n",
       "      <td>780</td>\n",
       "    </tr>\n",
       "    <tr>\n",
       "      <th>TotalBsmtSF</th>\n",
       "      <td>721</td>\n",
       "    </tr>\n",
       "    <tr>\n",
       "      <th>Heating</th>\n",
       "      <td>6</td>\n",
       "    </tr>\n",
       "    <tr>\n",
       "      <th>HeatingQC</th>\n",
       "      <td>5</td>\n",
       "    </tr>\n",
       "    <tr>\n",
       "      <th>CentralAir</th>\n",
       "      <td>2</td>\n",
       "    </tr>\n",
       "    <tr>\n",
       "      <th>Electrical</th>\n",
       "      <td>5</td>\n",
       "    </tr>\n",
       "    <tr>\n",
       "      <th>1stFlrSF</th>\n",
       "      <td>753</td>\n",
       "    </tr>\n",
       "    <tr>\n",
       "      <th>2ndFlrSF</th>\n",
       "      <td>417</td>\n",
       "    </tr>\n",
       "    <tr>\n",
       "      <th>LowQualFinSF</th>\n",
       "      <td>24</td>\n",
       "    </tr>\n",
       "    <tr>\n",
       "      <th>GrLivArea</th>\n",
       "      <td>861</td>\n",
       "    </tr>\n",
       "    <tr>\n",
       "      <th>BsmtFullBath</th>\n",
       "      <td>4</td>\n",
       "    </tr>\n",
       "    <tr>\n",
       "      <th>BsmtHalfBath</th>\n",
       "      <td>3</td>\n",
       "    </tr>\n",
       "    <tr>\n",
       "      <th>FullBath</th>\n",
       "      <td>4</td>\n",
       "    </tr>\n",
       "    <tr>\n",
       "      <th>HalfBath</th>\n",
       "      <td>3</td>\n",
       "    </tr>\n",
       "    <tr>\n",
       "      <th>BedroomAbvGr</th>\n",
       "      <td>8</td>\n",
       "    </tr>\n",
       "    <tr>\n",
       "      <th>KitchenAbvGr</th>\n",
       "      <td>4</td>\n",
       "    </tr>\n",
       "    <tr>\n",
       "      <th>KitchenQual</th>\n",
       "      <td>4</td>\n",
       "    </tr>\n",
       "    <tr>\n",
       "      <th>TotRmsAbvGrd</th>\n",
       "      <td>12</td>\n",
       "    </tr>\n",
       "    <tr>\n",
       "      <th>Functional</th>\n",
       "      <td>7</td>\n",
       "    </tr>\n",
       "    <tr>\n",
       "      <th>Fireplaces</th>\n",
       "      <td>4</td>\n",
       "    </tr>\n",
       "    <tr>\n",
       "      <th>FireplaceQu</th>\n",
       "      <td>5</td>\n",
       "    </tr>\n",
       "    <tr>\n",
       "      <th>GarageType</th>\n",
       "      <td>6</td>\n",
       "    </tr>\n",
       "    <tr>\n",
       "      <th>GarageYrBlt</th>\n",
       "      <td>97</td>\n",
       "    </tr>\n",
       "    <tr>\n",
       "      <th>GarageFinish</th>\n",
       "      <td>3</td>\n",
       "    </tr>\n",
       "    <tr>\n",
       "      <th>GarageCars</th>\n",
       "      <td>5</td>\n",
       "    </tr>\n",
       "    <tr>\n",
       "      <th>GarageArea</th>\n",
       "      <td>441</td>\n",
       "    </tr>\n",
       "    <tr>\n",
       "      <th>GarageQual</th>\n",
       "      <td>5</td>\n",
       "    </tr>\n",
       "    <tr>\n",
       "      <th>GarageCond</th>\n",
       "      <td>5</td>\n",
       "    </tr>\n",
       "    <tr>\n",
       "      <th>PavedDrive</th>\n",
       "      <td>3</td>\n",
       "    </tr>\n",
       "    <tr>\n",
       "      <th>WoodDeckSF</th>\n",
       "      <td>274</td>\n",
       "    </tr>\n",
       "    <tr>\n",
       "      <th>OpenPorchSF</th>\n",
       "      <td>202</td>\n",
       "    </tr>\n",
       "    <tr>\n",
       "      <th>EnclosedPorch</th>\n",
       "      <td>120</td>\n",
       "    </tr>\n",
       "    <tr>\n",
       "      <th>3SsnPorch</th>\n",
       "      <td>20</td>\n",
       "    </tr>\n",
       "    <tr>\n",
       "      <th>ScreenPorch</th>\n",
       "      <td>76</td>\n",
       "    </tr>\n",
       "    <tr>\n",
       "      <th>PoolArea</th>\n",
       "      <td>8</td>\n",
       "    </tr>\n",
       "    <tr>\n",
       "      <th>PoolQC</th>\n",
       "      <td>3</td>\n",
       "    </tr>\n",
       "    <tr>\n",
       "      <th>Fence</th>\n",
       "      <td>4</td>\n",
       "    </tr>\n",
       "    <tr>\n",
       "      <th>MiscFeature</th>\n",
       "      <td>4</td>\n",
       "    </tr>\n",
       "    <tr>\n",
       "      <th>MiscVal</th>\n",
       "      <td>21</td>\n",
       "    </tr>\n",
       "    <tr>\n",
       "      <th>MoSold</th>\n",
       "      <td>12</td>\n",
       "    </tr>\n",
       "    <tr>\n",
       "      <th>YrSold</th>\n",
       "      <td>5</td>\n",
       "    </tr>\n",
       "    <tr>\n",
       "      <th>SaleType</th>\n",
       "      <td>9</td>\n",
       "    </tr>\n",
       "    <tr>\n",
       "      <th>SaleCondition</th>\n",
       "      <td>6</td>\n",
       "    </tr>\n",
       "    <tr>\n",
       "      <th>SalePrice</th>\n",
       "      <td>663</td>\n",
       "    </tr>\n",
       "  </tbody>\n",
       "</table>\n",
       "</div>"
      ],
      "text/plain": [
       "               Unique Values\n",
       "Id                      1460\n",
       "MSSubClass                15\n",
       "MSZoning                   5\n",
       "LotFrontage              110\n",
       "LotArea                 1073\n",
       "Street                     2\n",
       "Alley                      2\n",
       "LotShape                   4\n",
       "LandContour                4\n",
       "Utilities                  2\n",
       "LotConfig                  5\n",
       "LandSlope                  3\n",
       "Neighborhood              25\n",
       "Condition1                 9\n",
       "Condition2                 8\n",
       "BldgType                   5\n",
       "HouseStyle                 8\n",
       "OverallQual               10\n",
       "OverallCond                9\n",
       "YearBuilt                112\n",
       "YearRemodAdd              61\n",
       "RoofStyle                  6\n",
       "RoofMatl                   8\n",
       "Exterior1st               15\n",
       "Exterior2nd               16\n",
       "MasVnrType                 3\n",
       "MasVnrArea               327\n",
       "ExterQual                  4\n",
       "ExterCond                  5\n",
       "Foundation                 6\n",
       "BsmtQual                   4\n",
       "BsmtCond                   4\n",
       "BsmtExposure               4\n",
       "BsmtFinType1               6\n",
       "BsmtFinSF1               637\n",
       "BsmtFinType2               6\n",
       "BsmtFinSF2               144\n",
       "BsmtUnfSF                780\n",
       "TotalBsmtSF              721\n",
       "Heating                    6\n",
       "HeatingQC                  5\n",
       "CentralAir                 2\n",
       "Electrical                 5\n",
       "1stFlrSF                 753\n",
       "2ndFlrSF                 417\n",
       "LowQualFinSF              24\n",
       "GrLivArea                861\n",
       "BsmtFullBath               4\n",
       "BsmtHalfBath               3\n",
       "FullBath                   4\n",
       "HalfBath                   3\n",
       "BedroomAbvGr               8\n",
       "KitchenAbvGr               4\n",
       "KitchenQual                4\n",
       "TotRmsAbvGrd              12\n",
       "Functional                 7\n",
       "Fireplaces                 4\n",
       "FireplaceQu                5\n",
       "GarageType                 6\n",
       "GarageYrBlt               97\n",
       "GarageFinish               3\n",
       "GarageCars                 5\n",
       "GarageArea               441\n",
       "GarageQual                 5\n",
       "GarageCond                 5\n",
       "PavedDrive                 3\n",
       "WoodDeckSF               274\n",
       "OpenPorchSF              202\n",
       "EnclosedPorch            120\n",
       "3SsnPorch                 20\n",
       "ScreenPorch               76\n",
       "PoolArea                   8\n",
       "PoolQC                     3\n",
       "Fence                      4\n",
       "MiscFeature                4\n",
       "MiscVal                   21\n",
       "MoSold                    12\n",
       "YrSold                     5\n",
       "SaleType                   9\n",
       "SaleCondition              6\n",
       "SalePrice                663"
      ]
     },
     "execution_count": 12,
     "metadata": {},
     "output_type": "execute_result"
    }
   ],
   "source": [
    "# Count number of unique values\n",
    "input_uniqvals = pd.DataFrame(train.nunique(axis=0),columns=[\"Unique Values\"])\n",
    "input_uniqvals"
   ]
  },
  {
   "cell_type": "code",
   "execution_count": 13,
   "metadata": {},
   "outputs": [
    {
     "name": "stdout",
     "output_type": "stream",
     "text": [
      "<class 'pandas.core.frame.DataFrame'>\n",
      "RangeIndex: 1460 entries, 0 to 1459\n",
      "Data columns (total 81 columns):\n",
      " #   Column         Non-Null Count  Dtype  \n",
      "---  ------         --------------  -----  \n",
      " 0   Id             1460 non-null   int64  \n",
      " 1   MSSubClass     1460 non-null   int64  \n",
      " 2   MSZoning       1460 non-null   object \n",
      " 3   LotFrontage    1201 non-null   float64\n",
      " 4   LotArea        1460 non-null   int64  \n",
      " 5   Street         1460 non-null   object \n",
      " 6   Alley          91 non-null     object \n",
      " 7   LotShape       1460 non-null   object \n",
      " 8   LandContour    1460 non-null   object \n",
      " 9   Utilities      1460 non-null   object \n",
      " 10  LotConfig      1460 non-null   object \n",
      " 11  LandSlope      1460 non-null   object \n",
      " 12  Neighborhood   1460 non-null   object \n",
      " 13  Condition1     1460 non-null   object \n",
      " 14  Condition2     1460 non-null   object \n",
      " 15  BldgType       1460 non-null   object \n",
      " 16  HouseStyle     1460 non-null   object \n",
      " 17  OverallQual    1460 non-null   int64  \n",
      " 18  OverallCond    1460 non-null   int64  \n",
      " 19  YearBuilt      1460 non-null   int64  \n",
      " 20  YearRemodAdd   1460 non-null   int64  \n",
      " 21  RoofStyle      1460 non-null   object \n",
      " 22  RoofMatl       1460 non-null   object \n",
      " 23  Exterior1st    1460 non-null   object \n",
      " 24  Exterior2nd    1460 non-null   object \n",
      " 25  MasVnrType     588 non-null    object \n",
      " 26  MasVnrArea     1452 non-null   float64\n",
      " 27  ExterQual      1460 non-null   object \n",
      " 28  ExterCond      1460 non-null   object \n",
      " 29  Foundation     1460 non-null   object \n",
      " 30  BsmtQual       1423 non-null   object \n",
      " 31  BsmtCond       1423 non-null   object \n",
      " 32  BsmtExposure   1422 non-null   object \n",
      " 33  BsmtFinType1   1423 non-null   object \n",
      " 34  BsmtFinSF1     1460 non-null   int64  \n",
      " 35  BsmtFinType2   1422 non-null   object \n",
      " 36  BsmtFinSF2     1460 non-null   int64  \n",
      " 37  BsmtUnfSF      1460 non-null   int64  \n",
      " 38  TotalBsmtSF    1460 non-null   int64  \n",
      " 39  Heating        1460 non-null   object \n",
      " 40  HeatingQC      1460 non-null   object \n",
      " 41  CentralAir     1460 non-null   object \n",
      " 42  Electrical     1459 non-null   object \n",
      " 43  1stFlrSF       1460 non-null   int64  \n",
      " 44  2ndFlrSF       1460 non-null   int64  \n",
      " 45  LowQualFinSF   1460 non-null   int64  \n",
      " 46  GrLivArea      1460 non-null   int64  \n",
      " 47  BsmtFullBath   1460 non-null   int64  \n",
      " 48  BsmtHalfBath   1460 non-null   int64  \n",
      " 49  FullBath       1460 non-null   int64  \n",
      " 50  HalfBath       1460 non-null   int64  \n",
      " 51  BedroomAbvGr   1460 non-null   int64  \n",
      " 52  KitchenAbvGr   1460 non-null   int64  \n",
      " 53  KitchenQual    1460 non-null   object \n",
      " 54  TotRmsAbvGrd   1460 non-null   int64  \n",
      " 55  Functional     1460 non-null   object \n",
      " 56  Fireplaces     1460 non-null   int64  \n",
      " 57  FireplaceQu    770 non-null    object \n",
      " 58  GarageType     1379 non-null   object \n",
      " 59  GarageYrBlt    1379 non-null   float64\n",
      " 60  GarageFinish   1379 non-null   object \n",
      " 61  GarageCars     1460 non-null   int64  \n",
      " 62  GarageArea     1460 non-null   int64  \n",
      " 63  GarageQual     1379 non-null   object \n",
      " 64  GarageCond     1379 non-null   object \n",
      " 65  PavedDrive     1460 non-null   object \n",
      " 66  WoodDeckSF     1460 non-null   int64  \n",
      " 67  OpenPorchSF    1460 non-null   int64  \n",
      " 68  EnclosedPorch  1460 non-null   int64  \n",
      " 69  3SsnPorch      1460 non-null   int64  \n",
      " 70  ScreenPorch    1460 non-null   int64  \n",
      " 71  PoolArea       1460 non-null   int64  \n",
      " 72  PoolQC         7 non-null      object \n",
      " 73  Fence          281 non-null    object \n",
      " 74  MiscFeature    54 non-null     object \n",
      " 75  MiscVal        1460 non-null   int64  \n",
      " 76  MoSold         1460 non-null   int64  \n",
      " 77  YrSold         1460 non-null   int64  \n",
      " 78  SaleType       1460 non-null   object \n",
      " 79  SaleCondition  1460 non-null   object \n",
      " 80  SalePrice      1460 non-null   int64  \n",
      "dtypes: float64(3), int64(35), object(43)\n",
      "memory usage: 924.0+ KB\n"
     ]
    }
   ],
   "source": [
    "# input_dtypes = pd.DataFrame(train.dtypes, columns=[\"Data Type\"])\n",
    "# input_dtypes\n",
    "train.info()"
   ]
  },
  {
   "cell_type": "code",
   "execution_count": 36,
   "metadata": {},
   "outputs": [],
   "source": [
    "#test.info()"
   ]
  },
  {
   "cell_type": "code",
   "execution_count": 37,
   "metadata": {},
   "outputs": [],
   "source": [
    "numerics=['LotFrontage',\n",
    "'LotArea',\n",
    "'OverallQual',\n",
    "'OverallCond',\n",
    "'YearBuilt',\n",
    "'YearRemodAdd',\n",
    "'MasVnrArea',\n",
    "'BsmtFinSF1',\n",
    "'BsmtFinSF2',\n",
    "'BsmtUnfSF',\n",
    "'TotalBsmtSF',\n",
    "'1stFlrSF',\n",
    "'2ndFlrSF',\n",
    "'LowQualFinSF',\n",
    "'GrLivArea',\n",
    "'BsmtFullBath',\n",
    "'BsmtHalfBath',\n",
    "'FullBath',\n",
    "'HalfBath',\n",
    "'BedroomAbvGr',\n",
    "'KitchenAbvGr',\n",
    "'TotRmsAbvGrd',\n",
    "'Fireplaces',\n",
    "'GarageYrBlt',\n",
    "'GarageCars',\n",
    "'GarageArea',\n",
    "'WoodDeckSF',\n",
    "'OpenPorchSF',\n",
    "'EnclosedPorch',\n",
    "'3SsnPorch',\n",
    "'ScreenPorch',\n",
    "'PoolArea',\n",
    "'MiscVal',\n",
    "'MoSold',\n",
    "'YrSold'\n",
    "]\n",
    "#numerics"
   ]
  },
  {
   "cell_type": "code",
   "execution_count": 38,
   "metadata": {},
   "outputs": [],
   "source": [
    "objects=['MSZoning',\n",
    "'Street',\n",
    "'Alley',\n",
    "'LotShape',\n",
    "'LandContour',\n",
    "'Utilities',\n",
    "'LotConfig',\n",
    "'LandSlope',\n",
    "'Neighborhood',\n",
    "'Condition1',\n",
    "'Condition2',\n",
    "'BldgType',\n",
    "'HouseStyle',\n",
    "'RoofStyle',\n",
    "'RoofMatl',\n",
    "'Exterior1st',\n",
    "'Exterior2nd',\n",
    "'MasVnrType',\n",
    "'ExterQual',\n",
    "'ExterCond',\n",
    "'Foundation',\n",
    "'BsmtQual',\n",
    "'BsmtCond',\n",
    "'BsmtExposure',\n",
    "'BsmtFinType1',\n",
    "'BsmtFinType2',\n",
    "'Heating',\n",
    "'HeatingQC',\n",
    "'CentralAir',\n",
    "'Electrical',\n",
    "'KitchenQual',\n",
    "'Functional',\n",
    "'FireplaceQu',\n",
    "'GarageType',\n",
    "'GarageFinish',\n",
    "'GarageQual',\n",
    "'GarageCond',\n",
    "'PavedDrive',\n",
    "'PoolQC',\n",
    "'Fence',\n",
    "'MiscFeature',\n",
    "'SaleCondition',\n",
    "'SaleType']"
   ]
  },
  {
   "cell_type": "code",
   "execution_count": 39,
   "metadata": {},
   "outputs": [
    {
     "name": "stdout",
     "output_type": "stream",
     "text": [
      "          Count  SalePrice_Mean  StdError   Lower   Upper  MSZoningB\n",
      "MSZoning                                                            \n",
      "C (all)      10          74,528    10,686  63,842  85,214     95,899\n",
      "FV           65         214,014     6,496 207,518 220,510    201,023\n",
      "RH           16         131,558     8,929 122,630 140,487    149,415\n",
      "RL         1151         191,005     2,381 188,624 193,386    186,244\n",
      "RM          218         126,317     3,286 123,031 129,603    132,889 \n",
      "\n",
      "\n",
      "        Count  SalePrice_Mean  StdError   Lower   Upper  StreetB\n",
      "Street                                                          \n",
      "Grvl        6         130,190    26,718 103,472 156,909  180,921\n",
      "Pave     1454         181,131     2,083 179,047 183,214  180,921 \n",
      "\n",
      "\n",
      "       Count  SalePrice_Mean  StdError   Lower   Upper  AlleyB\n",
      "Alley                                                         \n",
      "        1369         183,452     2,180 181,272 185,632 180,921\n",
      "Grvl      50         122,219     4,919 117,300 127,138 132,057\n",
      "Pave      41         168,001     5,992 162,008 173,993 179,985 \n",
      "\n",
      "\n",
      "          Count  SalePrice_Mean  StdError   Lower   Upper  LotShapeB\n",
      "LotShape                                                            \n",
      "IR1         484         206,102     3,903 202,199 210,004    198,296\n",
      "IR2          41         239,833    15,566 224,268 255,399    208,702\n",
      "IR3          10         216,036    26,102 189,935 242,138    180,921\n",
      "Reg         925         164,755     2,291 162,464 167,046    169,337 \n",
      "\n",
      "\n",
      "             Count  SalePrice_Mean  StdError   Lower   Upper  LandContourB\n",
      "LandContour                                                               \n",
      "Bnk             63         143,104     6,219 136,885 149,323       155,542\n",
      "HLS             50         231,534    14,395 217,139 245,929       202,743\n",
      "Low             36         203,661    13,989 189,672 217,650       180,921\n",
      "Lvl           1311         180,184     2,167 178,017 182,351       180,921 \n",
      "\n",
      "\n",
      "           Count  SalePrice_Mean  StdError   Lower   Upper  UtilitiesB\n",
      "Utilities                                                             \n",
      "AllPub      1459         180,951     2,080 178,871 183,031     180,921\n",
      "NoSeWa         1         137,500       NaN     NaN     NaN     180,921 \n",
      "\n",
      "\n",
      "           Count  SalePrice_Mean  StdError   Lower   Upper  LotConfigB\n",
      "LotConfig                                                             \n",
      "Corner       263         181,623     5,208 176,415 186,832     180,921\n",
      "CulDSac       94         223,855     9,604 214,250 233,459     204,646\n",
      "FR2           47         177,935     9,159 168,776 187,093     180,921\n",
      "FR3            4         208,475    39,190 169,285 247,665     180,921\n",
      "Inside      1052         176,938     2,356 174,582 179,294     180,921 \n",
      "\n",
      "\n",
      "           Count  SalePrice_Mean  StdError   Lower   Upper  LandSlopeB\n",
      "LandSlope                                                             \n",
      "Gtl         1382         179,957     2,116 177,841 182,073     180,921\n",
      "Mod           65         196,734    11,458 185,276 208,192     180,921\n",
      "Sev           13         204,379    24,055 180,325 228,434     180,921 \n",
      "\n",
      "\n",
      "              Count  SalePrice_Mean  StdError   Lower   Upper  NeighborhoodB\n",
      "Neighborhood                                                                \n",
      "Blmngtn          17         194,871     7,371 187,499 202,242        180,921\n",
      "Blueste           2         137,500    13,500 124,000 151,000        164,500\n",
      "BrDale           16         104,494     3,583 100,911 108,076        111,659\n",
      "BrkSide          58         124,834     5,298 119,536 130,132        135,430\n",
      "ClearCr          28         212,565     9,493 203,073 222,058        193,580\n",
      "CollgCr         150         197,966     4,197 193,769 202,163        189,572\n",
      "Crawfor          51         210,625     9,643 200,982 220,268        191,338\n",
      "Edwards         100         128,220     4,321 123,899 132,541        136,861\n",
      "Gilbert          79         192,855     4,049 188,806 196,903        184,757\n",
      "IDOTRR           37         100,124     5,487  94,637 105,611        111,098\n",
      "MeadowV          17          98,576     5,697  92,879 104,274        109,971\n",
      "Mitchel          49         156,270     5,212 151,058 161,482        166,695\n",
      "NAmes           225         145,847     2,205 143,642 148,052        150,257\n",
      "NPkVill           9         142,694     3,126 139,569 145,820        148,946\n",
      "NWAmes           73         189,050     4,351 184,699 193,401        180,921\n",
      "NoRidge          41         335,295    18,961 316,334 354,257        297,372\n",
      "NridgHt          77         316,271    10,985 305,286 327,256        294,301\n",
      "OldTown         113         128,225     4,953 123,272 133,178        138,131\n",
      "SWISU            25         142,591     6,525 136,067 149,116        155,641\n",
      "Sawyer           74         136,793     2,598 134,196 139,391        141,988\n",
      "SawyerW          59         186,556     7,245 179,311 193,801        180,921\n",
      "Somerst          86         225,380     6,058 219,322 231,438        213,264\n",
      "StoneBr          25         310,499    22,594 287,905 333,093        265,311\n",
      "Timber           38         242,247    10,519 231,728 252,767        221,209\n",
      "Veenker          11         238,773    21,820 216,953 260,593        195,132 \n",
      "\n",
      "\n",
      "            Count  SalePrice_Mean  StdError   Lower   Upper  Condition1B\n",
      "Condition1                                                              \n",
      "Artery         48         135,092     9,559 125,533 144,651      154,210\n",
      "Feedr          81         142,475     4,684 137,791 147,160      151,844\n",
      "Norm         1260         184,495     2,289 182,206 186,785      180,921\n",
      "PosA            8         225,875    18,508 207,367 244,383      188,859\n",
      "PosN           19         215,184    14,971 200,213 230,155      185,242\n",
      "RRAe           11         138,400     7,246 131,154 145,646      152,891\n",
      "RRAn           26         184,397    12,979 171,418 197,375      180,921\n",
      "RRNe            2         190,750     3,750 187,000 194,500      183,250\n",
      "RRNn            5         212,400    41,959 170,441 254,359      180,921 \n",
      "\n",
      "\n",
      "            Count  SalePrice_Mean  StdError   Lower   Upper  Condition2B\n",
      "Condition2                                                              \n",
      "Artery          2         106,500    11,500  95,000 118,000      129,500\n",
      "Feedr           6         121,167    13,695 107,472 134,861      148,556\n",
      "Norm         1445         181,169     2,087 179,082 183,257      180,921\n",
      "PosA            1         325,000       NaN     NaN     NaN      180,921\n",
      "PosN            2         284,875   100,125 184,750 385,000      180,921\n",
      "RRAe            1         190,000       NaN     NaN     NaN      180,921\n",
      "RRAn            1         136,905       NaN     NaN     NaN      180,921\n",
      "RRNn            2          96,750    28,250  68,500 125,000      153,250 \n",
      "\n",
      "\n",
      "          Count  SalePrice_Mean  StdError   Lower   Upper  BldgTypeB\n",
      "BldgType                                                            \n",
      "1Fam       1220         185,764     2,366 183,398 188,130    181,031\n",
      "2fmCon       31         128,432     6,369 122,064 134,801    141,169\n",
      "Duplex       52         133,541     3,860 129,681 137,401    141,261\n",
      "Twnhs        43         135,912     6,254 129,657 142,166    148,421\n",
      "TwnhsE      114         181,959     5,678 176,281 187,637    180,921 \n",
      "\n",
      "\n",
      "            Count  SalePrice_Mean  StdError   Lower   Upper  HouseStyleB\n",
      "HouseStyle                                                              \n",
      "1.5Fin        154         143,117     4,374 138,743 147,491      151,864\n",
      "1.5Unf         14         110,150     5,088 105,062 115,238      120,325\n",
      "1Story        726         175,985     2,860 173,126 178,845      180,921\n",
      "2.5Fin          8         220,000    41,794 178,206 261,794      180,921\n",
      "2.5Unf         11         157,355    19,277 138,078 176,631      180,921\n",
      "2Story        445         210,052     4,140 205,911 214,192      201,771\n",
      "SFoyer         37         135,074     5,011 130,063 140,086      145,097\n",
      "SLvl           65         166,703     4,751 161,952 171,455      176,206 \n",
      "\n",
      "\n",
      "           Count  SalePrice_Mean  StdError   Lower   Upper  RoofStyleB\n",
      "RoofStyle                                                             \n",
      "Flat          13         194,690    17,341 177,349 212,031     180,921\n",
      "Gable       1141         171,484     1,964 169,520 173,448     175,411\n",
      "Gambrel       11         148,909    20,205 128,704 169,114     180,921\n",
      "Hip          286         218,877     6,596 212,281 225,473     205,685\n",
      "Mansard        7         180,568    21,944 158,625 202,512     180,921\n",
      "Shed           2         225,000    35,000 190,000 260,000     180,921 \n",
      "\n",
      "\n",
      "          Count  SalePrice_Mean  StdError   Lower   Upper  RoofMatlB\n",
      "RoofMatl                                                            \n",
      "ClyTile       1         160,000       NaN     NaN     NaN    180,921\n",
      "CompShg    1434         179,804     2,052 177,751 181,856    180,921\n",
      "Membran       1         241,500       NaN     NaN     NaN    180,921\n",
      "Metal         1         180,000       NaN     NaN     NaN    180,921\n",
      "Roll          1         137,000       NaN     NaN     NaN    180,921\n",
      "Tar&Grv      11         185,406    19,728 165,678 205,134    180,921\n",
      "WdShake       5         241,400    16,198 225,202 257,598    209,005\n",
      "WdShngl       6         390,250    84,495 305,755 474,745    221,261 \n",
      "\n",
      "\n",
      "             Count  SalePrice_Mean  StdError   Lower   Upper  Exterior1stB\n",
      "Exterior1st                                                               \n",
      "AsbShng         20         107,386     7,548  99,837 114,934       122,482\n",
      "AsphShn          1         100,000       NaN     NaN     NaN       180,921\n",
      "BrkComm          2          71,000    11,000  60,000  82,000        93,000\n",
      "BrkFace         50         194,573    11,716 182,857 206,289       180,921\n",
      "CBlock           1         105,000       NaN     NaN     NaN       180,921\n",
      "CemntBd         61         231,691    15,438 216,253 247,129       200,814\n",
      "HdBoard        222         163,077     4,450 158,627 167,528       171,978\n",
      "ImStucc          1         262,000       NaN     NaN     NaN       180,921\n",
      "MetalSd        220         149,422     3,693 145,729 153,115       156,808\n",
      "Plywood        108         175,942     4,763 171,179 180,705       180,921\n",
      "Stone            2         258,500    28,500 230,000 287,000       201,500\n",
      "Stucco          25         162,990    16,661 146,329 179,651       180,921\n",
      "VinylSd        515         213,733     3,554 210,179 217,287       206,625\n",
      "Wd Sdng        206         149,842     4,956 144,886 154,798       159,753\n",
      "WdShing         26         150,655    14,220 136,435 164,875       179,095 \n",
      "\n",
      "\n",
      "             Count  SalePrice_Mean  StdError   Lower   Upper  Exterior2ndB\n",
      "Exterior2nd                                                               \n",
      "AsbShng         20         114,061     9,462 104,599 123,522       132,984\n",
      "AsphShn          3         138,000    21,656 116,344 159,656       180,921\n",
      "Brk Cmn          7         126,714    14,625 112,090 141,339       155,964\n",
      "BrkFace         25         195,818    19,020 176,798 214,838       180,921\n",
      "CBlock           1         105,000       NaN     NaN     NaN       180,921\n",
      "CmentBd         60         230,094    14,994 215,100 245,087       200,107\n",
      "HdBoard        207         167,662     4,870 162,792 172,531       177,401\n",
      "ImStucc         10         252,070    61,088 190,982 313,158       180,921\n",
      "MetalSd        214         149,803     3,765 146,038 153,568       157,333\n",
      "Other            1         319,000       NaN     NaN     NaN       180,921\n",
      "Plywood        142         168,112     3,940 164,172 172,053       175,993\n",
      "Stone            5         158,225    28,413 129,812 186,638       180,921\n",
      "Stucco          26         155,905    14,682 141,223 170,587       180,921\n",
      "VinylSd        504         214,432     3,595 210,837 218,027       207,242\n",
      "Wd Sdng        197         148,386     4,267 144,119 152,653       156,920\n",
      "Wd Shng         38         161,329    14,434 146,895 175,762       180,921 \n",
      "\n",
      "\n",
      "            Count  SalePrice_Mean  StdError   Lower   Upper  MasVnrTypeB\n",
      "MasVnrType                                                              \n",
      "              872         156,958     2,082 154,876 159,041      161,123\n",
      "BrkCmn         15         146,318    11,926 134,392 158,244      170,169\n",
      "BrkFace       445         204,692     3,850 200,842 208,542      196,992\n",
      "Stone         128         265,584     8,834 256,750 274,417      247,917 \n",
      "\n",
      "\n",
      "           Count  SalePrice_Mean  StdError   Lower   Upper  ExterQualB\n",
      "ExterQual                                                             \n",
      "Ex            52         367,361    16,142 351,219 383,503     335,077\n",
      "Fa            14          87,985    10,644  77,341  98,629     109,274\n",
      "Gd           488         231,634     3,223 228,411 234,856     225,188\n",
      "TA           906         144,341     1,411 142,930 145,752     147,163 \n",
      "\n",
      "\n",
      "           Count  SalePrice_Mean  StdError   Lower   Upper  ExterCondB\n",
      "ExterCond                                                             \n",
      "Ex             3         201,333    63,067 138,266 264,400     180,921\n",
      "Fa            28         102,595     7,577  95,018 110,172     117,749\n",
      "Gd           146         168,898     6,009 162,888 174,907     180,916\n",
      "Po             1          76,500       NaN     NaN     NaN     180,921\n",
      "TA          1282         184,035     2,229 181,806 186,264     180,921 \n",
      "\n",
      "\n",
      "            Count  SalePrice_Mean  StdError   Lower   Upper  FoundationB\n",
      "Foundation                                                              \n",
      "BrkTil        146         132,291     4,518 127,773 136,809      141,327\n",
      "CBlock        634         149,806     1,918 147,888 151,724      153,642\n",
      "PConc         647         225,230     3,415 221,815 228,645      218,400\n",
      "Slab           24         107,366     6,984 100,382 114,350      121,333\n",
      "Stone           6         165,959    32,071 133,888 198,030      180,921\n",
      "Wood            3         185,667    32,733 152,934 218,400      180,921 \n",
      "\n",
      "\n",
      "          Count  SalePrice_Mean  StdError   Lower   Upper  BsmtQualB\n",
      "BsmtQual                                                            \n",
      "             37         105,653     4,813 100,840 110,466    115,280\n",
      "Ex          121         327,041    10,324 316,717 337,365    306,393\n",
      "Fa           35         115,692     5,826 109,866 121,518    127,345\n",
      "Gd          618         202,688     2,337 200,352 205,025    198,015\n",
      "TA          649         140,760     1,707 139,053 142,467    144,174 \n",
      "\n",
      "\n",
      "          Count  SalePrice_Mean  StdError   Lower   Upper  BsmtCondB\n",
      "BsmtCond                                                            \n",
      "             37         105,653     4,813 100,840 110,466    115,280\n",
      "Fa           45         121,810     6,480 115,330 128,289    134,769\n",
      "Gd           65         213,600     9,013 204,587 222,613    195,574\n",
      "Po            2          64,000     3,000  61,000  67,000     70,000\n",
      "TA         1311         183,633     2,196 181,437 185,829    180,921 \n",
      "\n",
      "\n",
      "              Count  SalePrice_Mean  StdError   Lower   Upper  BsmtExposureB\n",
      "BsmtExposure                                                                \n",
      "                 38         107,938     5,213 102,726 113,151        118,364\n",
      "Av              221         206,643     5,964 200,680 212,607        194,716\n",
      "Gd              134         257,690    10,273 247,416 267,963        237,143\n",
      "Mn              114         192,790     7,243 185,547 200,033        180,921\n",
      "No              953         165,652     1,966 163,686 167,618        169,585 \n",
      "\n",
      "\n",
      "              Count  SalePrice_Mean  StdError   Lower   Upper  BsmtFinType1B\n",
      "BsmtFinType1                                                                \n",
      "                 37         105,653     4,813 100,840 110,466        115,280\n",
      "ALQ             220         161,573     3,426 158,147 164,999        168,426\n",
      "BLQ             148         149,494     3,890 145,603 153,384        157,274\n",
      "GLQ             418         235,414     4,559 230,854 239,973        226,295\n",
      "LwQ              74         151,853     5,905 145,948 157,758        163,663\n",
      "Rec             133         146,889     3,918 142,971 150,808        154,726\n",
      "Unf             430         170,671     3,500 167,171 174,171        177,671 \n",
      "\n",
      "\n",
      "              Count  SalePrice_Mean  StdError   Lower   Upper  BsmtFinType2B\n",
      "BsmtFinType2                                                                \n",
      "                 38         110,346     6,631 103,715 116,978        123,609\n",
      "ALQ              19         209,942    24,035 185,907 233,977        180,921\n",
      "BLQ              33         151,101     7,244 143,857 158,345        165,588\n",
      "GLQ              14         180,982    17,258 163,724 198,240        180,921\n",
      "LwQ              46         164,364     6,378 157,987 170,742        177,119\n",
      "Rec              54         164,917     8,054 156,863 172,971        180,921\n",
      "Unf            1256         184,695     2,293 182,401 186,988        180,921 \n",
      "\n",
      "\n",
      "         Count  SalePrice_Mean  StdError   Lower   Upper  HeatingB\n",
      "Heating                                                           \n",
      "Floor        1          72,500       NaN     NaN     NaN   180,921\n",
      "GasA      1428         182,021     2,098 179,924 184,119   180,921\n",
      "GasW        18         166,632    18,514 148,118 185,146   180,921\n",
      "Grav         7          75,271    10,608  64,663  85,880    96,488\n",
      "OthW         2         125,750     3,750 122,000 129,500   133,250\n",
      "Wall         4          92,100     2,255  89,845  94,355    96,610 \n",
      "\n",
      "\n",
      "           Count  SalePrice_Mean  StdError   Lower   Upper  HeatingQCB\n",
      "HeatingQC                                                             \n",
      "Ex           741         214,914     3,213 211,701 218,128     208,488\n",
      "Fa            49         123,919     7,187 116,733 131,106     138,293\n",
      "Gd           241         156,859     3,409 153,450 160,268     163,677\n",
      "Po             1          87,000       NaN     NaN     NaN     180,921\n",
      "TA           428         142,363     2,283 140,080 144,646     146,928 \n",
      "\n",
      "\n",
      "            Count  SalePrice_Mean  StdError   Lower   Upper  CentralAirB\n",
      "CentralAir                                                              \n",
      "N              95         105,264     4,173 101,091 109,437      113,610\n",
      "Y            1365         186,187     2,133 184,054 188,320      181,921 \n",
      "\n",
      "\n",
      "            Count  SalePrice_Mean  StdError   Lower   Upper  ElectricalB\n",
      "Electrical                                                              \n",
      "                1         167,500       NaN     NaN     NaN      180,921\n",
      "FuseA          94         122,197     3,869 118,328 126,066      129,935\n",
      "FuseF          27         107,675     5,896 101,779 113,571      119,467\n",
      "FuseP           3          97,333    20,003  77,331 117,336      137,339\n",
      "Mix             1          67,000       NaN     NaN     NaN      180,921\n",
      "SBrkr        1334         186,825     2,186 184,639 189,012      182,452 \n",
      "\n",
      "\n",
      "             Count  SalePrice_Mean  StdError   Lower   Upper  KitchenQualB\n",
      "KitchenQual                                                               \n",
      "Ex             100         328,555    12,086 316,468 340,641       304,382\n",
      "Fa              39         105,565     5,765  99,800 111,330       117,096\n",
      "Gd             586         212,116     2,645 209,471 214,761       206,827\n",
      "TA             735         139,963     1,435 138,528 141,397       142,832 \n",
      "\n",
      "\n",
      "            Count  SalePrice_Mean  StdError   Lower   Upper  FunctionalB\n",
      "Functional                                                              \n",
      "Maj1           14         153,948    17,239 136,709 171,188      180,921\n",
      "Maj2            5          85,800    12,114  73,686  97,914      110,027\n",
      "Min1           31         146,385     6,841 139,544 153,227      160,068\n",
      "Min2           34         144,241     7,068 137,172 151,309      158,377\n",
      "Mod            15         168,393    30,710 137,684 199,103      180,921\n",
      "Sev             1         129,000       NaN     NaN     NaN      180,921\n",
      "Typ          1360         183,429     2,170 181,259 185,599      180,921 \n",
      "\n",
      "\n",
      "             Count  SalePrice_Mean  StdError   Lower   Upper  FireplaceQuB\n",
      "FireplaceQu                                                               \n",
      "               690         141,331     1,690 139,642 143,021       144,711\n",
      "Ex              24         337,712    25,232 312,480 362,945       287,248\n",
      "Fa              33         167,298     5,969 161,330 173,267       179,236\n",
      "Gd             380         226,351     4,675 221,677 231,026       217,002\n",
      "Po              20         129,764     6,950 122,814 136,714       143,664\n",
      "TA             313         205,723     4,034 201,690 209,757       197,656 \n",
      "\n",
      "\n",
      "            Count  SalePrice_Mean  StdError   Lower   Upper  GarageTypeB\n",
      "GarageType                                                              \n",
      "               81         103,317     3,646  99,671 106,963      110,610\n",
      "2Types          6         151,283    14,255 137,028 165,538      179,793\n",
      "Attchd        870         202,893     2,616 200,277 205,508      197,662\n",
      "Basment        19         160,571    14,675 145,896 175,246      180,921\n",
      "BuiltIn        88         254,752    10,898 243,854 265,650      232,956\n",
      "CarPort         9         109,962     8,213 101,749 118,175      126,388\n",
      "Detchd        387         134,091     2,104 131,987 136,195      138,299 \n",
      "\n",
      "\n",
      "              Count  SalePrice_Mean  StdError   Lower   Upper  GarageFinishB\n",
      "GarageFinish                                                                \n",
      "                 81         103,317     3,646  99,671 106,963        110,610\n",
      "Fin             352         240,053     5,168 234,885 245,221        229,717\n",
      "RFn             422         202,069     3,093 198,976 205,162        195,883\n",
      "Unf             605         142,156     1,890 140,266 144,047        145,937 \n",
      "\n",
      "\n",
      "            Count  SalePrice_Mean  StdError   Lower   Upper  GarageQualB\n",
      "GarageQual                                                              \n",
      "               81         103,317     3,646  99,671 106,963      110,610\n",
      "Ex              3         241,000   117,017 123,983 358,017      180,921\n",
      "Fa             48         123,573     6,202 117,371 129,776      135,978\n",
      "Gd             14         215,861    19,811 196,050 235,672      180,921\n",
      "Po              3         100,167    20,290  79,876 120,457      140,747\n",
      "TA           1311         187,490     2,176 185,314 189,665      183,139 \n",
      "\n",
      "\n",
      "            Count  SalePrice_Mean  StdError   Lower   Upper  GarageCondB\n",
      "GarageCond                                                              \n",
      "               81         103,317     3,646  99,671 106,963      110,610\n",
      "Ex              2         124,000     3,500 120,500 127,500      131,000\n",
      "Fa             35         114,654     6,156 108,498 120,810      126,967\n",
      "Gd              9         179,930    21,590 158,340 201,520      180,921\n",
      "Po              7         108,500     8,566  99,934 117,066      125,631\n",
      "TA           1326         187,886     2,172 185,713 190,058      183,541 \n",
      "\n",
      "\n",
      "            Count  SalePrice_Mean  StdError   Lower   Upper  PavedDriveB\n",
      "PavedDrive                                                              \n",
      "N              90         115,039     4,675 110,364 119,714      124,389\n",
      "P              30         132,330     6,117 126,213 138,447      144,564\n",
      "Y            1340         186,434     2,176 184,258 188,610      182,081 \n",
      "\n",
      "\n",
      "        Count  SalePrice_Mean  StdError   Lower   Upper  PoolQCB\n",
      "PoolQC                                                          \n",
      "         1453         180,405     2,051 178,354 182,455  180,921\n",
      "Ex          2         490,000   255,000 235,000 745,000  180,921\n",
      "Fa          2         215,500    34,500 181,000 250,000  180,921\n",
      "Gd          3         201,990    36,628 165,362 238,618  180,921 \n",
      "\n",
      "\n",
      "       Count  SalePrice_Mean  StdError   Lower   Upper  FenceB\n",
      "Fence                                                         \n",
      "        1179         187,597     2,378 185,219 189,975 182,841\n",
      "GdPrv     59         178,927     7,389 171,538 186,317 180,921\n",
      "GdWo      54         140,379     7,293 133,086 147,672 154,965\n",
      "MnPrv    157         148,751     5,275 143,476 154,026 159,301\n",
      "MnWw      11         134,286     6,567 127,719 140,854 147,421 \n",
      "\n",
      "\n",
      "             Count  SalePrice_Mean  StdError   Lower   Upper  MiscFeatureB\n",
      "MiscFeature                                                               \n",
      "              1406         182,046     2,136 179,911 184,182       180,921\n",
      "Gar2             2         170,750    19,250 151,500 190,000       180,921\n",
      "Othr             2          94,000    39,000  55,000 133,000       172,000\n",
      "Shed            49         151,188     7,378 143,810 158,565       165,943\n",
      "TenC             1         250,000       NaN     NaN     NaN       180,921 \n",
      "\n",
      "\n",
      "               Count  SalePrice_Mean  StdError   Lower   Upper  SaleConditionB\n",
      "SaleCondition                                                                 \n",
      "Abnorml          101         146,527     8,239 138,288 154,765         163,004\n",
      "AdjLand            4         104,125    13,068  91,057 117,193         130,260\n",
      "Alloca            12         167,377    24,382 142,996 191,759         180,921\n",
      "Family            20         149,600    10,693 138,907 160,293         170,986\n",
      "Normal          1198         175,202     2,014 173,188 177,216         179,230\n",
      "Partial          125         272,292     9,275 263,017 281,567         253,742 \n",
      "\n",
      "\n",
      "          Count  SalePrice_Mean  StdError   Lower   Upper  SaleTypeB\n",
      "SaleType                                                            \n",
      "COD          43         143,973     7,182 136,791 151,156    158,338\n",
      "CWD           4         210,600    43,211 167,389 253,811    180,921\n",
      "Con           2         269,600    54,400 215,200 324,000    180,921\n",
      "ConLD         9         138,781    17,959 120,822 156,740    174,699\n",
      "ConLI         5         200,390    64,972 135,418 265,362    180,921\n",
      "ConLw         5         143,700    30,094 113,606 173,794    180,921\n",
      "New         122         274,945     9,347 265,599 284,292    256,252\n",
      "Oth           3         119,850    16,420 103,430 136,270    152,691\n",
      "WD         1267         173,402     1,998 171,404 175,400    177,398 \n",
      "\n",
      "\n"
     ]
    }
   ],
   "source": [
    "bandable=objects\n",
    "train1=train.copy()\n",
    "train1=train1.fillna('')\n",
    "shrinkage=2.0\n",
    "averageSP=train1.SalePrice.mean()\n",
    "for variable in bandable:\n",
    "    out=train1.groupby(variable).agg(\n",
    "                         Count=('SalePrice','count'),\n",
    "                         SalePrice_Mean=('SalePrice', 'mean'),\n",
    "                         StdError=('SalePrice','sem'))                               \n",
    "    out['Lower']=np.subtract(out['SalePrice_Mean'],out['StdError'])\n",
    "    out['Upper']=np.add(out['SalePrice_Mean'],out['StdError'])\n",
    "    out['Shrunk']=shrink(out['SalePrice_Mean'],shrinkage*out['StdError'],averageSP)\n",
    "    newname=variable+'B'\n",
    "    out1=out[[\"Shrunk\"]]\n",
    "    out1=out1.rename(columns={'Shrunk':newname})\n",
    "    out=out.rename(columns={'Shrunk':newname})\n",
    "    print(out,cr)\n",
    "    train1=train1.join(out1,on=variable)\n"
   ]
  },
  {
   "cell_type": "code",
   "execution_count": 18,
   "metadata": {},
   "outputs": [
    {
     "data": {
      "text/html": [
       "<div>\n",
       "<style scoped>\n",
       "    .dataframe tbody tr th:only-of-type {\n",
       "        vertical-align: middle;\n",
       "    }\n",
       "\n",
       "    .dataframe tbody tr th {\n",
       "        vertical-align: top;\n",
       "    }\n",
       "\n",
       "    .dataframe thead th {\n",
       "        text-align: right;\n",
       "    }\n",
       "</style>\n",
       "<table border=\"1\" class=\"dataframe\">\n",
       "  <thead>\n",
       "    <tr style=\"text-align: right;\">\n",
       "      <th></th>\n",
       "      <th>SaleConditionB</th>\n",
       "    </tr>\n",
       "    <tr>\n",
       "      <th>SaleCondition</th>\n",
       "      <th></th>\n",
       "    </tr>\n",
       "  </thead>\n",
       "  <tbody>\n",
       "    <tr>\n",
       "      <th>Abnorml</th>\n",
       "      <td>154,765</td>\n",
       "    </tr>\n",
       "    <tr>\n",
       "      <th>AdjLand</th>\n",
       "      <td>117,193</td>\n",
       "    </tr>\n",
       "    <tr>\n",
       "      <th>Alloca</th>\n",
       "      <td>180,921</td>\n",
       "    </tr>\n",
       "    <tr>\n",
       "      <th>Family</th>\n",
       "      <td>160,293</td>\n",
       "    </tr>\n",
       "    <tr>\n",
       "      <th>Normal</th>\n",
       "      <td>177,216</td>\n",
       "    </tr>\n",
       "    <tr>\n",
       "      <th>Partial</th>\n",
       "      <td>263,017</td>\n",
       "    </tr>\n",
       "  </tbody>\n",
       "</table>\n",
       "</div>"
      ],
      "text/plain": [
       "               SaleConditionB\n",
       "SaleCondition                \n",
       "Abnorml               154,765\n",
       "AdjLand               117,193\n",
       "Alloca                180,921\n",
       "Family                160,293\n",
       "Normal                177,216\n",
       "Partial               263,017"
      ]
     },
     "execution_count": 18,
     "metadata": {},
     "output_type": "execute_result"
    }
   ],
   "source": [
    "out1"
   ]
  },
  {
   "cell_type": "code",
   "execution_count": 19,
   "metadata": {},
   "outputs": [
    {
     "data": {
      "text/html": [
       "<div>\n",
       "<style scoped>\n",
       "    .dataframe tbody tr th:only-of-type {\n",
       "        vertical-align: middle;\n",
       "    }\n",
       "\n",
       "    .dataframe tbody tr th {\n",
       "        vertical-align: top;\n",
       "    }\n",
       "\n",
       "    .dataframe thead th {\n",
       "        text-align: right;\n",
       "    }\n",
       "</style>\n",
       "<table border=\"1\" class=\"dataframe\">\n",
       "  <thead>\n",
       "    <tr style=\"text-align: right;\">\n",
       "      <th></th>\n",
       "      <th>Id</th>\n",
       "      <th>MSSubClass</th>\n",
       "      <th>LotArea</th>\n",
       "      <th>OverallQual</th>\n",
       "      <th>OverallCond</th>\n",
       "      <th>YearBuilt</th>\n",
       "      <th>YearRemodAdd</th>\n",
       "      <th>BsmtFinSF1</th>\n",
       "      <th>BsmtFinSF2</th>\n",
       "      <th>BsmtUnfSF</th>\n",
       "      <th>...</th>\n",
       "      <th>GarageTypeB</th>\n",
       "      <th>GarageFinishB</th>\n",
       "      <th>GarageQualB</th>\n",
       "      <th>GarageCondB</th>\n",
       "      <th>PavedDriveB</th>\n",
       "      <th>PoolQCB</th>\n",
       "      <th>FenceB</th>\n",
       "      <th>MiscFeatureB</th>\n",
       "      <th>SaleTypeB</th>\n",
       "      <th>SaleConditionB</th>\n",
       "    </tr>\n",
       "  </thead>\n",
       "  <tbody>\n",
       "    <tr>\n",
       "      <th>count</th>\n",
       "      <td>1,460</td>\n",
       "      <td>1,460</td>\n",
       "      <td>1,460</td>\n",
       "      <td>1,460</td>\n",
       "      <td>1,460</td>\n",
       "      <td>1,460</td>\n",
       "      <td>1,460</td>\n",
       "      <td>1,460</td>\n",
       "      <td>1,460</td>\n",
       "      <td>1,460</td>\n",
       "      <td>...</td>\n",
       "      <td>1,460</td>\n",
       "      <td>1,460</td>\n",
       "      <td>1,460</td>\n",
       "      <td>1,460</td>\n",
       "      <td>1,460</td>\n",
       "      <td>1,460</td>\n",
       "      <td>1,460</td>\n",
       "      <td>1,460</td>\n",
       "      <td>1,460</td>\n",
       "      <td>1,460</td>\n",
       "    </tr>\n",
       "    <tr>\n",
       "      <th>mean</th>\n",
       "      <td>730</td>\n",
       "      <td>57</td>\n",
       "      <td>10,517</td>\n",
       "      <td>6</td>\n",
       "      <td>6</td>\n",
       "      <td>1,971</td>\n",
       "      <td>1,985</td>\n",
       "      <td>444</td>\n",
       "      <td>47</td>\n",
       "      <td>567</td>\n",
       "      <td>...</td>\n",
       "      <td>179,766</td>\n",
       "      <td>179,767</td>\n",
       "      <td>179,102</td>\n",
       "      <td>179,350</td>\n",
       "      <td>179,338</td>\n",
       "      <td>180,995</td>\n",
       "      <td>179,968</td>\n",
       "      <td>180,105</td>\n",
       "      <td>182,111</td>\n",
       "      <td>182,643</td>\n",
       "    </tr>\n",
       "    <tr>\n",
       "      <th>std</th>\n",
       "      <td>422</td>\n",
       "      <td>42</td>\n",
       "      <td>9,981</td>\n",
       "      <td>1</td>\n",
       "      <td>1</td>\n",
       "      <td>30</td>\n",
       "      <td>21</td>\n",
       "      <td>456</td>\n",
       "      <td>161</td>\n",
       "      <td>442</td>\n",
       "      <td>...</td>\n",
       "      <td>36,344</td>\n",
       "      <td>40,780</td>\n",
       "      <td>20,334</td>\n",
       "      <td>20,790</td>\n",
       "      <td>16,610</td>\n",
       "      <td>2,001</td>\n",
       "      <td>12,036</td>\n",
       "      <td>4,389</td>\n",
       "      <td>25,695</td>\n",
       "      <td>25,496</td>\n",
       "    </tr>\n",
       "    <tr>\n",
       "      <th>min</th>\n",
       "      <td>1</td>\n",
       "      <td>20</td>\n",
       "      <td>1,300</td>\n",
       "      <td>1</td>\n",
       "      <td>1</td>\n",
       "      <td>1,872</td>\n",
       "      <td>1,950</td>\n",
       "      <td>0</td>\n",
       "      <td>0</td>\n",
       "      <td>0</td>\n",
       "      <td>...</td>\n",
       "      <td>106,963</td>\n",
       "      <td>106,963</td>\n",
       "      <td>106,963</td>\n",
       "      <td>106,963</td>\n",
       "      <td>119,714</td>\n",
       "      <td>180,921</td>\n",
       "      <td>140,854</td>\n",
       "      <td>133,000</td>\n",
       "      <td>136,270</td>\n",
       "      <td>117,193</td>\n",
       "    </tr>\n",
       "    <tr>\n",
       "      <th>25%</th>\n",
       "      <td>366</td>\n",
       "      <td>20</td>\n",
       "      <td>7,554</td>\n",
       "      <td>5</td>\n",
       "      <td>5</td>\n",
       "      <td>1,954</td>\n",
       "      <td>1,967</td>\n",
       "      <td>0</td>\n",
       "      <td>0</td>\n",
       "      <td>223</td>\n",
       "      <td>...</td>\n",
       "      <td>136,195</td>\n",
       "      <td>144,047</td>\n",
       "      <td>185,314</td>\n",
       "      <td>185,713</td>\n",
       "      <td>184,258</td>\n",
       "      <td>180,921</td>\n",
       "      <td>185,219</td>\n",
       "      <td>180,921</td>\n",
       "      <td>175,400</td>\n",
       "      <td>177,216</td>\n",
       "    </tr>\n",
       "    <tr>\n",
       "      <th>50%</th>\n",
       "      <td>730</td>\n",
       "      <td>50</td>\n",
       "      <td>9,478</td>\n",
       "      <td>6</td>\n",
       "      <td>5</td>\n",
       "      <td>1,973</td>\n",
       "      <td>1,994</td>\n",
       "      <td>384</td>\n",
       "      <td>0</td>\n",
       "      <td>478</td>\n",
       "      <td>...</td>\n",
       "      <td>200,277</td>\n",
       "      <td>198,976</td>\n",
       "      <td>185,314</td>\n",
       "      <td>185,713</td>\n",
       "      <td>184,258</td>\n",
       "      <td>180,921</td>\n",
       "      <td>185,219</td>\n",
       "      <td>180,921</td>\n",
       "      <td>175,400</td>\n",
       "      <td>177,216</td>\n",
       "    </tr>\n",
       "    <tr>\n",
       "      <th>75%</th>\n",
       "      <td>1,095</td>\n",
       "      <td>70</td>\n",
       "      <td>11,602</td>\n",
       "      <td>7</td>\n",
       "      <td>6</td>\n",
       "      <td>2,000</td>\n",
       "      <td>2,004</td>\n",
       "      <td>712</td>\n",
       "      <td>0</td>\n",
       "      <td>808</td>\n",
       "      <td>...</td>\n",
       "      <td>200,277</td>\n",
       "      <td>198,976</td>\n",
       "      <td>185,314</td>\n",
       "      <td>185,713</td>\n",
       "      <td>184,258</td>\n",
       "      <td>180,921</td>\n",
       "      <td>185,219</td>\n",
       "      <td>180,921</td>\n",
       "      <td>175,400</td>\n",
       "      <td>177,216</td>\n",
       "    </tr>\n",
       "    <tr>\n",
       "      <th>max</th>\n",
       "      <td>1,460</td>\n",
       "      <td>190</td>\n",
       "      <td>215,245</td>\n",
       "      <td>10</td>\n",
       "      <td>9</td>\n",
       "      <td>2,010</td>\n",
       "      <td>2,010</td>\n",
       "      <td>5,644</td>\n",
       "      <td>1,474</td>\n",
       "      <td>2,336</td>\n",
       "      <td>...</td>\n",
       "      <td>243,854</td>\n",
       "      <td>234,885</td>\n",
       "      <td>196,050</td>\n",
       "      <td>185,713</td>\n",
       "      <td>184,258</td>\n",
       "      <td>235,000</td>\n",
       "      <td>185,219</td>\n",
       "      <td>180,921</td>\n",
       "      <td>265,599</td>\n",
       "      <td>263,017</td>\n",
       "    </tr>\n",
       "  </tbody>\n",
       "</table>\n",
       "<p>8 rows × 78 columns</p>\n",
       "</div>"
      ],
      "text/plain": [
       "         Id  MSSubClass  LotArea  OverallQual  OverallCond  YearBuilt  \\\n",
       "count 1,460       1,460    1,460        1,460        1,460      1,460   \n",
       "mean    730          57   10,517            6            6      1,971   \n",
       "std     422          42    9,981            1            1         30   \n",
       "min       1          20    1,300            1            1      1,872   \n",
       "25%     366          20    7,554            5            5      1,954   \n",
       "50%     730          50    9,478            6            5      1,973   \n",
       "75%   1,095          70   11,602            7            6      2,000   \n",
       "max   1,460         190  215,245           10            9      2,010   \n",
       "\n",
       "       YearRemodAdd  BsmtFinSF1  BsmtFinSF2  BsmtUnfSF  ...  GarageTypeB  \\\n",
       "count         1,460       1,460       1,460      1,460  ...        1,460   \n",
       "mean          1,985         444          47        567  ...      179,766   \n",
       "std              21         456         161        442  ...       36,344   \n",
       "min           1,950           0           0          0  ...      106,963   \n",
       "25%           1,967           0           0        223  ...      136,195   \n",
       "50%           1,994         384           0        478  ...      200,277   \n",
       "75%           2,004         712           0        808  ...      200,277   \n",
       "max           2,010       5,644       1,474      2,336  ...      243,854   \n",
       "\n",
       "       GarageFinishB  GarageQualB  GarageCondB  PavedDriveB  PoolQCB  FenceB  \\\n",
       "count          1,460        1,460        1,460        1,460    1,460   1,460   \n",
       "mean         179,767      179,102      179,350      179,338  180,995 179,968   \n",
       "std           40,780       20,334       20,790       16,610    2,001  12,036   \n",
       "min          106,963      106,963      106,963      119,714  180,921 140,854   \n",
       "25%          144,047      185,314      185,713      184,258  180,921 185,219   \n",
       "50%          198,976      185,314      185,713      184,258  180,921 185,219   \n",
       "75%          198,976      185,314      185,713      184,258  180,921 185,219   \n",
       "max          234,885      196,050      185,713      184,258  235,000 185,219   \n",
       "\n",
       "       MiscFeatureB  SaleTypeB  SaleConditionB  \n",
       "count         1,460      1,460           1,460  \n",
       "mean        180,105    182,111         182,643  \n",
       "std           4,389     25,695          25,496  \n",
       "min         133,000    136,270         117,193  \n",
       "25%         180,921    175,400         177,216  \n",
       "50%         180,921    175,400         177,216  \n",
       "75%         180,921    175,400         177,216  \n",
       "max         180,921    265,599         263,017  \n",
       "\n",
       "[8 rows x 78 columns]"
      ]
     },
     "execution_count": 19,
     "metadata": {},
     "output_type": "execute_result"
    }
   ],
   "source": [
    "train1.describe()"
   ]
  },
  {
   "cell_type": "code",
   "execution_count": 20,
   "metadata": {},
   "outputs": [
    {
     "data": {
      "text/html": [
       "<div>\n",
       "<style scoped>\n",
       "    .dataframe tbody tr th:only-of-type {\n",
       "        vertical-align: middle;\n",
       "    }\n",
       "\n",
       "    .dataframe tbody tr th {\n",
       "        vertical-align: top;\n",
       "    }\n",
       "\n",
       "    .dataframe thead th {\n",
       "        text-align: right;\n",
       "    }\n",
       "</style>\n",
       "<table border=\"1\" class=\"dataframe\">\n",
       "  <thead>\n",
       "    <tr style=\"text-align: right;\">\n",
       "      <th></th>\n",
       "      <th>Fence</th>\n",
       "      <th>FenceB</th>\n",
       "    </tr>\n",
       "  </thead>\n",
       "  <tbody>\n",
       "    <tr>\n",
       "      <th>0</th>\n",
       "      <td></td>\n",
       "      <td>185,219</td>\n",
       "    </tr>\n",
       "    <tr>\n",
       "      <th>1</th>\n",
       "      <td></td>\n",
       "      <td>185,219</td>\n",
       "    </tr>\n",
       "    <tr>\n",
       "      <th>2</th>\n",
       "      <td></td>\n",
       "      <td>185,219</td>\n",
       "    </tr>\n",
       "    <tr>\n",
       "      <th>3</th>\n",
       "      <td></td>\n",
       "      <td>185,219</td>\n",
       "    </tr>\n",
       "    <tr>\n",
       "      <th>4</th>\n",
       "      <td></td>\n",
       "      <td>185,219</td>\n",
       "    </tr>\n",
       "    <tr>\n",
       "      <th>...</th>\n",
       "      <td>...</td>\n",
       "      <td>...</td>\n",
       "    </tr>\n",
       "    <tr>\n",
       "      <th>1455</th>\n",
       "      <td></td>\n",
       "      <td>185,219</td>\n",
       "    </tr>\n",
       "    <tr>\n",
       "      <th>1456</th>\n",
       "      <td>MnPrv</td>\n",
       "      <td>154,026</td>\n",
       "    </tr>\n",
       "    <tr>\n",
       "      <th>1457</th>\n",
       "      <td>GdPrv</td>\n",
       "      <td>180,921</td>\n",
       "    </tr>\n",
       "    <tr>\n",
       "      <th>1458</th>\n",
       "      <td></td>\n",
       "      <td>185,219</td>\n",
       "    </tr>\n",
       "    <tr>\n",
       "      <th>1459</th>\n",
       "      <td></td>\n",
       "      <td>185,219</td>\n",
       "    </tr>\n",
       "  </tbody>\n",
       "</table>\n",
       "<p>1460 rows × 2 columns</p>\n",
       "</div>"
      ],
      "text/plain": [
       "      Fence  FenceB\n",
       "0           185,219\n",
       "1           185,219\n",
       "2           185,219\n",
       "3           185,219\n",
       "4           185,219\n",
       "...     ...     ...\n",
       "1455        185,219\n",
       "1456  MnPrv 154,026\n",
       "1457  GdPrv 180,921\n",
       "1458        185,219\n",
       "1459        185,219\n",
       "\n",
       "[1460 rows x 2 columns]"
      ]
     },
     "execution_count": 20,
     "metadata": {},
     "output_type": "execute_result"
    }
   ],
   "source": [
    "train1[[\"Fence\",\"FenceB\"]]"
   ]
  },
  {
   "cell_type": "code",
   "execution_count": 122,
   "metadata": {},
   "outputs": [
    {
     "name": "stdout",
     "output_type": "stream",
     "text": [
      "               Count  SalePrice_Mean  StdError   Lower   Upper  LotFrontageB\n",
      "LotFrontage                                                                 \n",
      "(20.99, 50.0]    205         152,451     4,626 147,825 157,076       157,076\n",
      "(50.0, 60.0]     242         137,595     3,449 134,146 141,044       141,044\n",
      "(60.0, 69.0]     154         182,350     5,765 176,585 188,115       180,921\n",
      "(69.0, 77.0]     205         175,651     4,270 171,381 179,921       179,921\n",
      "(77.0, 87.0]     198         203,984     5,160 198,824 209,144       198,824\n",
      "(87.0, 313.0]    197         244,040     8,293 235,747 252,333       235,747 \n",
      "\n",
      "\n",
      "                   Count  SalePrice_Mean  StdError   Lower   Upper  YearBuiltB\n",
      "YearBuilt                                                                     \n",
      "(1871.99, 1940.0]    257         133,904     3,539 130,365 137,443     137,443\n",
      "(1940.0, 1960.0]     245         138,493     2,626 135,867 141,119     141,119\n",
      "(1960.0, 1973.0]     238         147,378     2,770 144,608 150,148     150,148\n",
      "(1973.0, 1994.0]     235         188,366     4,508 183,858 192,873     183,858\n",
      "(1994.0, 2004.0]     263         224,767     4,571 220,196 229,338     220,196\n",
      "(2004.0, 2010.0]     222         258,312     6,151 252,160 264,463     252,160 \n",
      "\n",
      "\n"
     ]
    }
   ],
   "source": [
    "bandable=['LotFrontage','YearBuilt']\n",
    "#bandable=['LotFrontage','BldgType']\n",
    "#bandable=objects\n",
    "train1=train.copy()\n",
    "shrinkage=1.0\n",
    "averageSP=train1.SalePrice.mean()\n",
    "for variable in bandable:\n",
    "    train1[variable] = pd.qcut(train1[variable],q=6,precision=2,duplicates='drop')\n",
    "    out=train1.groupby(variable).agg(\n",
    "                         Count=('SalePrice','count'),\n",
    "                         SalePrice_Mean=('SalePrice', 'mean'),\n",
    "                         StdError=('SalePrice','sem'))                               \n",
    "    out['Lower']=np.subtract(out['SalePrice_Mean'],out['StdError'])\n",
    "    out['Upper']=np.add(out['SalePrice_Mean'],out['StdError'])\n",
    "    out['Shrunk']=shrink(out['SalePrice_Mean'],shrinkage*out['StdError'],averageSP)\n",
    "    newname=variable+'B'\n",
    "    out1=out[[\"Shrunk\"]]\n",
    "    out1=out1.rename(columns={'Shrunk':newname})\n",
    "    out=out.rename(columns={'Shrunk':newname})\n",
    "    print(out,cr)\n",
    "    train1=train1.join(out1,on=variable)\n"
   ]
  },
  {
   "cell_type": "code",
   "execution_count": 158,
   "metadata": {},
   "outputs": [],
   "source": [
    "#train1.head()\n",
    "#train1[['LotFrontage','LotFrontageB']]\n"
   ]
  },
  {
   "cell_type": "code",
   "execution_count": 21,
   "metadata": {},
   "outputs": [
    {
     "name": "stdout",
     "output_type": "stream",
     "text": [
      "               Count  SalePrice_Mean  StdError   Lower   Upper  SaleConditionB\n",
      "SaleCondition                                                                 \n",
      "Abnorml          101         146,527     8,239 138,288 154,765         154,765\n",
      "AdjLand            4         104,125    13,068  91,057 117,193         117,193\n",
      "Alloca            12         167,377    24,382 142,996 191,759         180,921\n",
      "Family            20         149,600    10,693 138,907 160,293         160,293\n",
      "Normal          1198         175,202     2,014 173,188 177,216         177,216\n",
      "Partial          125         272,292     9,275 263,017 281,567         263,017\n"
     ]
    }
   ],
   "source": [
    "print(out)"
   ]
  },
  {
   "cell_type": "code",
   "execution_count": 203,
   "metadata": {},
   "outputs": [],
   "source": []
  },
  {
   "cell_type": "code",
   "execution_count": 40,
   "metadata": {},
   "outputs": [
    {
     "data": {
      "application/vnd.plotly.v1+json": {
       "config": {
        "plotlyServerURL": "https://plot.ly"
       },
       "data": [
        {
         "alignmentgroup": "True",
         "hovertemplate": "variable=Count<br>SaleCondition=%{x}<br>value=%{y}<extra></extra>",
         "legendgroup": "Count",
         "marker": {
          "color": "gray",
          "pattern": {
           "shape": ""
          }
         },
         "name": "Count",
         "offsetgroup": "Count",
         "orientation": "v",
         "showlegend": true,
         "textposition": "auto",
         "type": "bar",
         "x": [
          "COD",
          "CWD",
          "Con",
          "ConLD",
          "ConLI",
          "ConLw",
          "New",
          "Oth",
          "WD"
         ],
         "xaxis": "x",
         "y": [
          43,
          4,
          2,
          9,
          5,
          5,
          122,
          3,
          1267
         ],
         "yaxis": "y"
        }
       ],
       "layout": {
        "barmode": "group",
        "legend": {
         "title": {
          "text": "variable"
         },
         "tracegroupgap": 0
        },
        "margin": {
         "t": 60
        },
        "template": {
         "data": {
          "bar": [
           {
            "error_x": {
             "color": "#2a3f5f"
            },
            "error_y": {
             "color": "#2a3f5f"
            },
            "marker": {
             "line": {
              "color": "#E5ECF6",
              "width": 0.5
             },
             "pattern": {
              "fillmode": "overlay",
              "size": 10,
              "solidity": 0.2
             }
            },
            "type": "bar"
           }
          ],
          "barpolar": [
           {
            "marker": {
             "line": {
              "color": "#E5ECF6",
              "width": 0.5
             },
             "pattern": {
              "fillmode": "overlay",
              "size": 10,
              "solidity": 0.2
             }
            },
            "type": "barpolar"
           }
          ],
          "carpet": [
           {
            "aaxis": {
             "endlinecolor": "#2a3f5f",
             "gridcolor": "white",
             "linecolor": "white",
             "minorgridcolor": "white",
             "startlinecolor": "#2a3f5f"
            },
            "baxis": {
             "endlinecolor": "#2a3f5f",
             "gridcolor": "white",
             "linecolor": "white",
             "minorgridcolor": "white",
             "startlinecolor": "#2a3f5f"
            },
            "type": "carpet"
           }
          ],
          "choropleth": [
           {
            "colorbar": {
             "outlinewidth": 0,
             "ticks": ""
            },
            "type": "choropleth"
           }
          ],
          "contour": [
           {
            "colorbar": {
             "outlinewidth": 0,
             "ticks": ""
            },
            "colorscale": [
             [
              0,
              "#0d0887"
             ],
             [
              0.1111111111111111,
              "#46039f"
             ],
             [
              0.2222222222222222,
              "#7201a8"
             ],
             [
              0.3333333333333333,
              "#9c179e"
             ],
             [
              0.4444444444444444,
              "#bd3786"
             ],
             [
              0.5555555555555556,
              "#d8576b"
             ],
             [
              0.6666666666666666,
              "#ed7953"
             ],
             [
              0.7777777777777778,
              "#fb9f3a"
             ],
             [
              0.8888888888888888,
              "#fdca26"
             ],
             [
              1,
              "#f0f921"
             ]
            ],
            "type": "contour"
           }
          ],
          "contourcarpet": [
           {
            "colorbar": {
             "outlinewidth": 0,
             "ticks": ""
            },
            "type": "contourcarpet"
           }
          ],
          "heatmap": [
           {
            "colorbar": {
             "outlinewidth": 0,
             "ticks": ""
            },
            "colorscale": [
             [
              0,
              "#0d0887"
             ],
             [
              0.1111111111111111,
              "#46039f"
             ],
             [
              0.2222222222222222,
              "#7201a8"
             ],
             [
              0.3333333333333333,
              "#9c179e"
             ],
             [
              0.4444444444444444,
              "#bd3786"
             ],
             [
              0.5555555555555556,
              "#d8576b"
             ],
             [
              0.6666666666666666,
              "#ed7953"
             ],
             [
              0.7777777777777778,
              "#fb9f3a"
             ],
             [
              0.8888888888888888,
              "#fdca26"
             ],
             [
              1,
              "#f0f921"
             ]
            ],
            "type": "heatmap"
           }
          ],
          "heatmapgl": [
           {
            "colorbar": {
             "outlinewidth": 0,
             "ticks": ""
            },
            "colorscale": [
             [
              0,
              "#0d0887"
             ],
             [
              0.1111111111111111,
              "#46039f"
             ],
             [
              0.2222222222222222,
              "#7201a8"
             ],
             [
              0.3333333333333333,
              "#9c179e"
             ],
             [
              0.4444444444444444,
              "#bd3786"
             ],
             [
              0.5555555555555556,
              "#d8576b"
             ],
             [
              0.6666666666666666,
              "#ed7953"
             ],
             [
              0.7777777777777778,
              "#fb9f3a"
             ],
             [
              0.8888888888888888,
              "#fdca26"
             ],
             [
              1,
              "#f0f921"
             ]
            ],
            "type": "heatmapgl"
           }
          ],
          "histogram": [
           {
            "marker": {
             "pattern": {
              "fillmode": "overlay",
              "size": 10,
              "solidity": 0.2
             }
            },
            "type": "histogram"
           }
          ],
          "histogram2d": [
           {
            "colorbar": {
             "outlinewidth": 0,
             "ticks": ""
            },
            "colorscale": [
             [
              0,
              "#0d0887"
             ],
             [
              0.1111111111111111,
              "#46039f"
             ],
             [
              0.2222222222222222,
              "#7201a8"
             ],
             [
              0.3333333333333333,
              "#9c179e"
             ],
             [
              0.4444444444444444,
              "#bd3786"
             ],
             [
              0.5555555555555556,
              "#d8576b"
             ],
             [
              0.6666666666666666,
              "#ed7953"
             ],
             [
              0.7777777777777778,
              "#fb9f3a"
             ],
             [
              0.8888888888888888,
              "#fdca26"
             ],
             [
              1,
              "#f0f921"
             ]
            ],
            "type": "histogram2d"
           }
          ],
          "histogram2dcontour": [
           {
            "colorbar": {
             "outlinewidth": 0,
             "ticks": ""
            },
            "colorscale": [
             [
              0,
              "#0d0887"
             ],
             [
              0.1111111111111111,
              "#46039f"
             ],
             [
              0.2222222222222222,
              "#7201a8"
             ],
             [
              0.3333333333333333,
              "#9c179e"
             ],
             [
              0.4444444444444444,
              "#bd3786"
             ],
             [
              0.5555555555555556,
              "#d8576b"
             ],
             [
              0.6666666666666666,
              "#ed7953"
             ],
             [
              0.7777777777777778,
              "#fb9f3a"
             ],
             [
              0.8888888888888888,
              "#fdca26"
             ],
             [
              1,
              "#f0f921"
             ]
            ],
            "type": "histogram2dcontour"
           }
          ],
          "mesh3d": [
           {
            "colorbar": {
             "outlinewidth": 0,
             "ticks": ""
            },
            "type": "mesh3d"
           }
          ],
          "parcoords": [
           {
            "line": {
             "colorbar": {
              "outlinewidth": 0,
              "ticks": ""
             }
            },
            "type": "parcoords"
           }
          ],
          "pie": [
           {
            "automargin": true,
            "type": "pie"
           }
          ],
          "scatter": [
           {
            "fillpattern": {
             "fillmode": "overlay",
             "size": 10,
             "solidity": 0.2
            },
            "type": "scatter"
           }
          ],
          "scatter3d": [
           {
            "line": {
             "colorbar": {
              "outlinewidth": 0,
              "ticks": ""
             }
            },
            "marker": {
             "colorbar": {
              "outlinewidth": 0,
              "ticks": ""
             }
            },
            "type": "scatter3d"
           }
          ],
          "scattercarpet": [
           {
            "marker": {
             "colorbar": {
              "outlinewidth": 0,
              "ticks": ""
             }
            },
            "type": "scattercarpet"
           }
          ],
          "scattergeo": [
           {
            "marker": {
             "colorbar": {
              "outlinewidth": 0,
              "ticks": ""
             }
            },
            "type": "scattergeo"
           }
          ],
          "scattergl": [
           {
            "marker": {
             "colorbar": {
              "outlinewidth": 0,
              "ticks": ""
             }
            },
            "type": "scattergl"
           }
          ],
          "scattermapbox": [
           {
            "marker": {
             "colorbar": {
              "outlinewidth": 0,
              "ticks": ""
             }
            },
            "type": "scattermapbox"
           }
          ],
          "scatterpolar": [
           {
            "marker": {
             "colorbar": {
              "outlinewidth": 0,
              "ticks": ""
             }
            },
            "type": "scatterpolar"
           }
          ],
          "scatterpolargl": [
           {
            "marker": {
             "colorbar": {
              "outlinewidth": 0,
              "ticks": ""
             }
            },
            "type": "scatterpolargl"
           }
          ],
          "scatterternary": [
           {
            "marker": {
             "colorbar": {
              "outlinewidth": 0,
              "ticks": ""
             }
            },
            "type": "scatterternary"
           }
          ],
          "surface": [
           {
            "colorbar": {
             "outlinewidth": 0,
             "ticks": ""
            },
            "colorscale": [
             [
              0,
              "#0d0887"
             ],
             [
              0.1111111111111111,
              "#46039f"
             ],
             [
              0.2222222222222222,
              "#7201a8"
             ],
             [
              0.3333333333333333,
              "#9c179e"
             ],
             [
              0.4444444444444444,
              "#bd3786"
             ],
             [
              0.5555555555555556,
              "#d8576b"
             ],
             [
              0.6666666666666666,
              "#ed7953"
             ],
             [
              0.7777777777777778,
              "#fb9f3a"
             ],
             [
              0.8888888888888888,
              "#fdca26"
             ],
             [
              1,
              "#f0f921"
             ]
            ],
            "type": "surface"
           }
          ],
          "table": [
           {
            "cells": {
             "fill": {
              "color": "#EBF0F8"
             },
             "line": {
              "color": "white"
             }
            },
            "header": {
             "fill": {
              "color": "#C8D4E3"
             },
             "line": {
              "color": "white"
             }
            },
            "type": "table"
           }
          ]
         },
         "layout": {
          "annotationdefaults": {
           "arrowcolor": "#2a3f5f",
           "arrowhead": 0,
           "arrowwidth": 1
          },
          "autotypenumbers": "strict",
          "coloraxis": {
           "colorbar": {
            "outlinewidth": 0,
            "ticks": ""
           }
          },
          "colorscale": {
           "diverging": [
            [
             0,
             "#8e0152"
            ],
            [
             0.1,
             "#c51b7d"
            ],
            [
             0.2,
             "#de77ae"
            ],
            [
             0.3,
             "#f1b6da"
            ],
            [
             0.4,
             "#fde0ef"
            ],
            [
             0.5,
             "#f7f7f7"
            ],
            [
             0.6,
             "#e6f5d0"
            ],
            [
             0.7,
             "#b8e186"
            ],
            [
             0.8,
             "#7fbc41"
            ],
            [
             0.9,
             "#4d9221"
            ],
            [
             1,
             "#276419"
            ]
           ],
           "sequential": [
            [
             0,
             "#0d0887"
            ],
            [
             0.1111111111111111,
             "#46039f"
            ],
            [
             0.2222222222222222,
             "#7201a8"
            ],
            [
             0.3333333333333333,
             "#9c179e"
            ],
            [
             0.4444444444444444,
             "#bd3786"
            ],
            [
             0.5555555555555556,
             "#d8576b"
            ],
            [
             0.6666666666666666,
             "#ed7953"
            ],
            [
             0.7777777777777778,
             "#fb9f3a"
            ],
            [
             0.8888888888888888,
             "#fdca26"
            ],
            [
             1,
             "#f0f921"
            ]
           ],
           "sequentialminus": [
            [
             0,
             "#0d0887"
            ],
            [
             0.1111111111111111,
             "#46039f"
            ],
            [
             0.2222222222222222,
             "#7201a8"
            ],
            [
             0.3333333333333333,
             "#9c179e"
            ],
            [
             0.4444444444444444,
             "#bd3786"
            ],
            [
             0.5555555555555556,
             "#d8576b"
            ],
            [
             0.6666666666666666,
             "#ed7953"
            ],
            [
             0.7777777777777778,
             "#fb9f3a"
            ],
            [
             0.8888888888888888,
             "#fdca26"
            ],
            [
             1,
             "#f0f921"
            ]
           ]
          },
          "colorway": [
           "#636efa",
           "#EF553B",
           "#00cc96",
           "#ab63fa",
           "#FFA15A",
           "#19d3f3",
           "#FF6692",
           "#B6E880",
           "#FF97FF",
           "#FECB52"
          ],
          "font": {
           "color": "#2a3f5f"
          },
          "geo": {
           "bgcolor": "white",
           "lakecolor": "white",
           "landcolor": "#E5ECF6",
           "showlakes": true,
           "showland": true,
           "subunitcolor": "white"
          },
          "hoverlabel": {
           "align": "left"
          },
          "hovermode": "closest",
          "mapbox": {
           "style": "light"
          },
          "paper_bgcolor": "white",
          "plot_bgcolor": "#E5ECF6",
          "polar": {
           "angularaxis": {
            "gridcolor": "white",
            "linecolor": "white",
            "ticks": ""
           },
           "bgcolor": "#E5ECF6",
           "radialaxis": {
            "gridcolor": "white",
            "linecolor": "white",
            "ticks": ""
           }
          },
          "scene": {
           "xaxis": {
            "backgroundcolor": "#E5ECF6",
            "gridcolor": "white",
            "gridwidth": 2,
            "linecolor": "white",
            "showbackground": true,
            "ticks": "",
            "zerolinecolor": "white"
           },
           "yaxis": {
            "backgroundcolor": "#E5ECF6",
            "gridcolor": "white",
            "gridwidth": 2,
            "linecolor": "white",
            "showbackground": true,
            "ticks": "",
            "zerolinecolor": "white"
           },
           "zaxis": {
            "backgroundcolor": "#E5ECF6",
            "gridcolor": "white",
            "gridwidth": 2,
            "linecolor": "white",
            "showbackground": true,
            "ticks": "",
            "zerolinecolor": "white"
           }
          },
          "shapedefaults": {
           "line": {
            "color": "#2a3f5f"
           }
          },
          "ternary": {
           "aaxis": {
            "gridcolor": "white",
            "linecolor": "white",
            "ticks": ""
           },
           "baxis": {
            "gridcolor": "white",
            "linecolor": "white",
            "ticks": ""
           },
           "bgcolor": "#E5ECF6",
           "caxis": {
            "gridcolor": "white",
            "linecolor": "white",
            "ticks": ""
           }
          },
          "title": {
           "x": 0.05
          },
          "xaxis": {
           "automargin": true,
           "gridcolor": "white",
           "linecolor": "white",
           "ticks": "",
           "title": {
            "standoff": 15
           },
           "zerolinecolor": "white",
           "zerolinewidth": 2
          },
          "yaxis": {
           "automargin": true,
           "gridcolor": "white",
           "linecolor": "white",
           "ticks": "",
           "title": {
            "standoff": 15
           },
           "zerolinecolor": "white",
           "zerolinewidth": 2
          }
         }
        },
        "xaxis": {
         "anchor": "y",
         "domain": [
          0,
          1
         ],
         "title": {
          "text": "SaleCondition"
         }
        },
        "yaxis": {
         "anchor": "x",
         "domain": [
          0,
          1
         ],
         "title": {
          "text": "value"
         }
        }
       }
      }
     },
     "metadata": {},
     "output_type": "display_data"
    }
   ],
   "source": [
    "outp = out.rename_axis('SaleCondition').reset_index()\n",
    "fig = px.bar(outp, x='SaleCondition', y=['Count'],barmode='group',color_discrete_sequence=['gray'])            \n",
    "#fig.update_layout(title=dict(text=\"SaleCondition\"))\n",
    "fig.show()"
   ]
  },
  {
   "cell_type": "code",
   "execution_count": 56,
   "metadata": {},
   "outputs": [
    {
     "data": {
      "application/vnd.plotly.v1+json": {
       "config": {
        "plotlyServerURL": "https://plot.ly"
       },
       "data": [
        {
         "alignmentgroup": "True",
         "hovertemplate": "variable=SalePrice_Mean<br>SaleType=%{x}<br>value=%{y}<extra></extra>",
         "legendgroup": "SalePrice_Mean",
         "marker": {
          "color": "green",
          "pattern": {
           "shape": ""
          }
         },
         "name": "SalePrice_Mean",
         "offsetgroup": "SalePrice_Mean",
         "orientation": "v",
         "showlegend": true,
         "textposition": "auto",
         "type": "bar",
         "x": [
          "COD",
          "CWD",
          "Con",
          "ConLD",
          "ConLI",
          "ConLw",
          "New",
          "Oth",
          "WD"
         ],
         "xaxis": "x",
         "y": [
          143973.2558139535,
          210600,
          269600,
          138780.88888888888,
          200390,
          143700,
          274945.41803278687,
          119850,
          173401.8366219416
         ],
         "yaxis": "y"
        },
        {
         "alignmentgroup": "True",
         "hovertemplate": "variable=SaleTypeB<br>SaleType=%{x}<br>value=%{y}<extra></extra>",
         "legendgroup": "SaleTypeB",
         "marker": {
          "color": "brown",
          "pattern": {
           "shape": ""
          }
         },
         "name": "SaleTypeB",
         "offsetgroup": "SaleTypeB",
         "orientation": "v",
         "showlegend": true,
         "textposition": "auto",
         "type": "bar",
         "x": [
          "COD",
          "CWD",
          "Con",
          "ConLD",
          "ConLI",
          "ConLw",
          "New",
          "Oth",
          "WD"
         ],
         "xaxis": "x",
         "y": [
          158338.1009097842,
          180921.19589041095,
          180921.19589041095,
          174698.59598664907,
          180921.19589041095,
          180921.19589041095,
          256251.67284914036,
          152690.87899757456,
          177398.4540809756
         ],
         "yaxis": "y"
        }
       ],
       "layout": {
        "barmode": "group",
        "legend": {
         "title": {
          "text": "variable"
         },
         "tracegroupgap": 0
        },
        "margin": {
         "t": 60
        },
        "template": {
         "data": {
          "bar": [
           {
            "error_x": {
             "color": "#2a3f5f"
            },
            "error_y": {
             "color": "#2a3f5f"
            },
            "marker": {
             "line": {
              "color": "#E5ECF6",
              "width": 0.5
             },
             "pattern": {
              "fillmode": "overlay",
              "size": 10,
              "solidity": 0.2
             }
            },
            "type": "bar"
           }
          ],
          "barpolar": [
           {
            "marker": {
             "line": {
              "color": "#E5ECF6",
              "width": 0.5
             },
             "pattern": {
              "fillmode": "overlay",
              "size": 10,
              "solidity": 0.2
             }
            },
            "type": "barpolar"
           }
          ],
          "carpet": [
           {
            "aaxis": {
             "endlinecolor": "#2a3f5f",
             "gridcolor": "white",
             "linecolor": "white",
             "minorgridcolor": "white",
             "startlinecolor": "#2a3f5f"
            },
            "baxis": {
             "endlinecolor": "#2a3f5f",
             "gridcolor": "white",
             "linecolor": "white",
             "minorgridcolor": "white",
             "startlinecolor": "#2a3f5f"
            },
            "type": "carpet"
           }
          ],
          "choropleth": [
           {
            "colorbar": {
             "outlinewidth": 0,
             "ticks": ""
            },
            "type": "choropleth"
           }
          ],
          "contour": [
           {
            "colorbar": {
             "outlinewidth": 0,
             "ticks": ""
            },
            "colorscale": [
             [
              0,
              "#0d0887"
             ],
             [
              0.1111111111111111,
              "#46039f"
             ],
             [
              0.2222222222222222,
              "#7201a8"
             ],
             [
              0.3333333333333333,
              "#9c179e"
             ],
             [
              0.4444444444444444,
              "#bd3786"
             ],
             [
              0.5555555555555556,
              "#d8576b"
             ],
             [
              0.6666666666666666,
              "#ed7953"
             ],
             [
              0.7777777777777778,
              "#fb9f3a"
             ],
             [
              0.8888888888888888,
              "#fdca26"
             ],
             [
              1,
              "#f0f921"
             ]
            ],
            "type": "contour"
           }
          ],
          "contourcarpet": [
           {
            "colorbar": {
             "outlinewidth": 0,
             "ticks": ""
            },
            "type": "contourcarpet"
           }
          ],
          "heatmap": [
           {
            "colorbar": {
             "outlinewidth": 0,
             "ticks": ""
            },
            "colorscale": [
             [
              0,
              "#0d0887"
             ],
             [
              0.1111111111111111,
              "#46039f"
             ],
             [
              0.2222222222222222,
              "#7201a8"
             ],
             [
              0.3333333333333333,
              "#9c179e"
             ],
             [
              0.4444444444444444,
              "#bd3786"
             ],
             [
              0.5555555555555556,
              "#d8576b"
             ],
             [
              0.6666666666666666,
              "#ed7953"
             ],
             [
              0.7777777777777778,
              "#fb9f3a"
             ],
             [
              0.8888888888888888,
              "#fdca26"
             ],
             [
              1,
              "#f0f921"
             ]
            ],
            "type": "heatmap"
           }
          ],
          "heatmapgl": [
           {
            "colorbar": {
             "outlinewidth": 0,
             "ticks": ""
            },
            "colorscale": [
             [
              0,
              "#0d0887"
             ],
             [
              0.1111111111111111,
              "#46039f"
             ],
             [
              0.2222222222222222,
              "#7201a8"
             ],
             [
              0.3333333333333333,
              "#9c179e"
             ],
             [
              0.4444444444444444,
              "#bd3786"
             ],
             [
              0.5555555555555556,
              "#d8576b"
             ],
             [
              0.6666666666666666,
              "#ed7953"
             ],
             [
              0.7777777777777778,
              "#fb9f3a"
             ],
             [
              0.8888888888888888,
              "#fdca26"
             ],
             [
              1,
              "#f0f921"
             ]
            ],
            "type": "heatmapgl"
           }
          ],
          "histogram": [
           {
            "marker": {
             "pattern": {
              "fillmode": "overlay",
              "size": 10,
              "solidity": 0.2
             }
            },
            "type": "histogram"
           }
          ],
          "histogram2d": [
           {
            "colorbar": {
             "outlinewidth": 0,
             "ticks": ""
            },
            "colorscale": [
             [
              0,
              "#0d0887"
             ],
             [
              0.1111111111111111,
              "#46039f"
             ],
             [
              0.2222222222222222,
              "#7201a8"
             ],
             [
              0.3333333333333333,
              "#9c179e"
             ],
             [
              0.4444444444444444,
              "#bd3786"
             ],
             [
              0.5555555555555556,
              "#d8576b"
             ],
             [
              0.6666666666666666,
              "#ed7953"
             ],
             [
              0.7777777777777778,
              "#fb9f3a"
             ],
             [
              0.8888888888888888,
              "#fdca26"
             ],
             [
              1,
              "#f0f921"
             ]
            ],
            "type": "histogram2d"
           }
          ],
          "histogram2dcontour": [
           {
            "colorbar": {
             "outlinewidth": 0,
             "ticks": ""
            },
            "colorscale": [
             [
              0,
              "#0d0887"
             ],
             [
              0.1111111111111111,
              "#46039f"
             ],
             [
              0.2222222222222222,
              "#7201a8"
             ],
             [
              0.3333333333333333,
              "#9c179e"
             ],
             [
              0.4444444444444444,
              "#bd3786"
             ],
             [
              0.5555555555555556,
              "#d8576b"
             ],
             [
              0.6666666666666666,
              "#ed7953"
             ],
             [
              0.7777777777777778,
              "#fb9f3a"
             ],
             [
              0.8888888888888888,
              "#fdca26"
             ],
             [
              1,
              "#f0f921"
             ]
            ],
            "type": "histogram2dcontour"
           }
          ],
          "mesh3d": [
           {
            "colorbar": {
             "outlinewidth": 0,
             "ticks": ""
            },
            "type": "mesh3d"
           }
          ],
          "parcoords": [
           {
            "line": {
             "colorbar": {
              "outlinewidth": 0,
              "ticks": ""
             }
            },
            "type": "parcoords"
           }
          ],
          "pie": [
           {
            "automargin": true,
            "type": "pie"
           }
          ],
          "scatter": [
           {
            "fillpattern": {
             "fillmode": "overlay",
             "size": 10,
             "solidity": 0.2
            },
            "type": "scatter"
           }
          ],
          "scatter3d": [
           {
            "line": {
             "colorbar": {
              "outlinewidth": 0,
              "ticks": ""
             }
            },
            "marker": {
             "colorbar": {
              "outlinewidth": 0,
              "ticks": ""
             }
            },
            "type": "scatter3d"
           }
          ],
          "scattercarpet": [
           {
            "marker": {
             "colorbar": {
              "outlinewidth": 0,
              "ticks": ""
             }
            },
            "type": "scattercarpet"
           }
          ],
          "scattergeo": [
           {
            "marker": {
             "colorbar": {
              "outlinewidth": 0,
              "ticks": ""
             }
            },
            "type": "scattergeo"
           }
          ],
          "scattergl": [
           {
            "marker": {
             "colorbar": {
              "outlinewidth": 0,
              "ticks": ""
             }
            },
            "type": "scattergl"
           }
          ],
          "scattermapbox": [
           {
            "marker": {
             "colorbar": {
              "outlinewidth": 0,
              "ticks": ""
             }
            },
            "type": "scattermapbox"
           }
          ],
          "scatterpolar": [
           {
            "marker": {
             "colorbar": {
              "outlinewidth": 0,
              "ticks": ""
             }
            },
            "type": "scatterpolar"
           }
          ],
          "scatterpolargl": [
           {
            "marker": {
             "colorbar": {
              "outlinewidth": 0,
              "ticks": ""
             }
            },
            "type": "scatterpolargl"
           }
          ],
          "scatterternary": [
           {
            "marker": {
             "colorbar": {
              "outlinewidth": 0,
              "ticks": ""
             }
            },
            "type": "scatterternary"
           }
          ],
          "surface": [
           {
            "colorbar": {
             "outlinewidth": 0,
             "ticks": ""
            },
            "colorscale": [
             [
              0,
              "#0d0887"
             ],
             [
              0.1111111111111111,
              "#46039f"
             ],
             [
              0.2222222222222222,
              "#7201a8"
             ],
             [
              0.3333333333333333,
              "#9c179e"
             ],
             [
              0.4444444444444444,
              "#bd3786"
             ],
             [
              0.5555555555555556,
              "#d8576b"
             ],
             [
              0.6666666666666666,
              "#ed7953"
             ],
             [
              0.7777777777777778,
              "#fb9f3a"
             ],
             [
              0.8888888888888888,
              "#fdca26"
             ],
             [
              1,
              "#f0f921"
             ]
            ],
            "type": "surface"
           }
          ],
          "table": [
           {
            "cells": {
             "fill": {
              "color": "#EBF0F8"
             },
             "line": {
              "color": "white"
             }
            },
            "header": {
             "fill": {
              "color": "#C8D4E3"
             },
             "line": {
              "color": "white"
             }
            },
            "type": "table"
           }
          ]
         },
         "layout": {
          "annotationdefaults": {
           "arrowcolor": "#2a3f5f",
           "arrowhead": 0,
           "arrowwidth": 1
          },
          "autotypenumbers": "strict",
          "coloraxis": {
           "colorbar": {
            "outlinewidth": 0,
            "ticks": ""
           }
          },
          "colorscale": {
           "diverging": [
            [
             0,
             "#8e0152"
            ],
            [
             0.1,
             "#c51b7d"
            ],
            [
             0.2,
             "#de77ae"
            ],
            [
             0.3,
             "#f1b6da"
            ],
            [
             0.4,
             "#fde0ef"
            ],
            [
             0.5,
             "#f7f7f7"
            ],
            [
             0.6,
             "#e6f5d0"
            ],
            [
             0.7,
             "#b8e186"
            ],
            [
             0.8,
             "#7fbc41"
            ],
            [
             0.9,
             "#4d9221"
            ],
            [
             1,
             "#276419"
            ]
           ],
           "sequential": [
            [
             0,
             "#0d0887"
            ],
            [
             0.1111111111111111,
             "#46039f"
            ],
            [
             0.2222222222222222,
             "#7201a8"
            ],
            [
             0.3333333333333333,
             "#9c179e"
            ],
            [
             0.4444444444444444,
             "#bd3786"
            ],
            [
             0.5555555555555556,
             "#d8576b"
            ],
            [
             0.6666666666666666,
             "#ed7953"
            ],
            [
             0.7777777777777778,
             "#fb9f3a"
            ],
            [
             0.8888888888888888,
             "#fdca26"
            ],
            [
             1,
             "#f0f921"
            ]
           ],
           "sequentialminus": [
            [
             0,
             "#0d0887"
            ],
            [
             0.1111111111111111,
             "#46039f"
            ],
            [
             0.2222222222222222,
             "#7201a8"
            ],
            [
             0.3333333333333333,
             "#9c179e"
            ],
            [
             0.4444444444444444,
             "#bd3786"
            ],
            [
             0.5555555555555556,
             "#d8576b"
            ],
            [
             0.6666666666666666,
             "#ed7953"
            ],
            [
             0.7777777777777778,
             "#fb9f3a"
            ],
            [
             0.8888888888888888,
             "#fdca26"
            ],
            [
             1,
             "#f0f921"
            ]
           ]
          },
          "colorway": [
           "#636efa",
           "#EF553B",
           "#00cc96",
           "#ab63fa",
           "#FFA15A",
           "#19d3f3",
           "#FF6692",
           "#B6E880",
           "#FF97FF",
           "#FECB52"
          ],
          "font": {
           "color": "#2a3f5f"
          },
          "geo": {
           "bgcolor": "white",
           "lakecolor": "white",
           "landcolor": "#E5ECF6",
           "showlakes": true,
           "showland": true,
           "subunitcolor": "white"
          },
          "hoverlabel": {
           "align": "left"
          },
          "hovermode": "closest",
          "mapbox": {
           "style": "light"
          },
          "paper_bgcolor": "white",
          "plot_bgcolor": "#E5ECF6",
          "polar": {
           "angularaxis": {
            "gridcolor": "white",
            "linecolor": "white",
            "ticks": ""
           },
           "bgcolor": "#E5ECF6",
           "radialaxis": {
            "gridcolor": "white",
            "linecolor": "white",
            "ticks": ""
           }
          },
          "scene": {
           "xaxis": {
            "backgroundcolor": "#E5ECF6",
            "gridcolor": "white",
            "gridwidth": 2,
            "linecolor": "white",
            "showbackground": true,
            "ticks": "",
            "zerolinecolor": "white"
           },
           "yaxis": {
            "backgroundcolor": "#E5ECF6",
            "gridcolor": "white",
            "gridwidth": 2,
            "linecolor": "white",
            "showbackground": true,
            "ticks": "",
            "zerolinecolor": "white"
           },
           "zaxis": {
            "backgroundcolor": "#E5ECF6",
            "gridcolor": "white",
            "gridwidth": 2,
            "linecolor": "white",
            "showbackground": true,
            "ticks": "",
            "zerolinecolor": "white"
           }
          },
          "shapedefaults": {
           "line": {
            "color": "#2a3f5f"
           }
          },
          "ternary": {
           "aaxis": {
            "gridcolor": "white",
            "linecolor": "white",
            "ticks": ""
           },
           "baxis": {
            "gridcolor": "white",
            "linecolor": "white",
            "ticks": ""
           },
           "bgcolor": "#E5ECF6",
           "caxis": {
            "gridcolor": "white",
            "linecolor": "white",
            "ticks": ""
           }
          },
          "title": {
           "x": 0.05
          },
          "xaxis": {
           "automargin": true,
           "gridcolor": "white",
           "linecolor": "white",
           "ticks": "",
           "title": {
            "standoff": 15
           },
           "zerolinecolor": "white",
           "zerolinewidth": 2
          },
          "yaxis": {
           "automargin": true,
           "gridcolor": "white",
           "linecolor": "white",
           "ticks": "",
           "title": {
            "standoff": 15
           },
           "zerolinecolor": "white",
           "zerolinewidth": 2
          }
         }
        },
        "title": {
         "text": "Mean SalePrice by SaleType"
        },
        "xaxis": {
         "anchor": "y",
         "domain": [
          0,
          1
         ],
         "title": {
          "text": "SaleType"
         }
        },
        "yaxis": {
         "anchor": "x",
         "domain": [
          0,
          1
         ],
         "title": {
          "text": "value"
         }
        }
       }
      }
     },
     "metadata": {},
     "output_type": "display_data"
    }
   ],
   "source": [
    "v='SaleType'\n",
    "vB=v+\"B\"\n",
    "outp = out.rename_axis(v).reset_index()\n",
    "fig = px.bar(outp, x=v, y=['SalePrice_Mean',vB],barmode='group',color_discrete_sequence=['green','brown'])            \n",
    "fig.update_layout(title=dict(text=\"Mean SalePrice by \"+v))\n",
    "fig.show()"
   ]
  },
  {
   "cell_type": "code",
   "execution_count": null,
   "metadata": {},
   "outputs": [
    {
     "data": {
      "text/plain": [
       "'\\n#x1=np.array([250,225,200,175,150,125,100])\\n#d1=np.array([20,10,10,10,5,5,10])\\n#m1=175\\nx1=np.array([152141,137595,182350,175651,203984,244040])\\n\\nd1=np.array([4626,3449,5765,4270,5160,8293])\\nm1=180000\\nlower=np.subtract(x1,d1)\\nupper=np.add(x1,d1)\\nmean_below_lower=np.where(m1<lower,lower,0)\\nmean_above_upper=np.where(m1>upper,upper,0)\\ncombined=mean_below_lower+mean_above_upper\\ntogether=np.where(combined==0,m1,combined)\\n\\n#print(shrink(x1,d1,m))\\nprint(cr,x1,cr,d1,cr,lower,cr,upper,cr,cr,mean_below_lower,cr,mean_above_upper,cr,combined,cr,together,cr)\\n'"
      ]
     },
     "execution_count": 90,
     "metadata": {},
     "output_type": "execute_result"
    }
   ],
   "source": [
    "# Testing\n",
    "'''\n",
    "#x1=np.array([250,225,200,175,150,125,100])\n",
    "#d1=np.array([20,10,10,10,5,5,10])\n",
    "#m1=175\n",
    "x1=np.array([152141,137595,182350,175651,203984,244040])\n",
    "\n",
    "d1=np.array([4626,3449,5765,4270,5160,8293])\n",
    "m1=180000\n",
    "lower=np.subtract(x1,d1)\n",
    "upper=np.add(x1,d1)\n",
    "mean_below_lower=np.where(m1<lower,lower,0)\n",
    "mean_above_upper=np.where(m1>upper,upper,0)\n",
    "combined=mean_below_lower+mean_above_upper\n",
    "together=np.where(combined==0,m1,combined)\n",
    "\n",
    "#print(shrink(x1,d1,m))\n",
    "print(cr,x1,cr,d1,cr,lower,cr,upper,cr,cr,mean_below_lower,cr,mean_above_upper,cr,combined,cr,together,cr)\n",
    "'''"
   ]
  },
  {
   "cell_type": "code",
   "execution_count": 32,
   "metadata": {},
   "outputs": [],
   "source": [
    "for i in range(0, len(objects)):\n",
    "    str = objects[i]\n",
    "    objects[i] = objects[i]+'B'\n",
    "\n",
    "#print(objects)"
   ]
  },
  {
   "cell_type": "code",
   "execution_count": 33,
   "metadata": {},
   "outputs": [
    {
     "name": "stdout",
     "output_type": "stream",
     "text": [
      "[ 6.80212386e-02 -1.01666194e+12 -1.10183716e-01  1.21963501e-01  1.30167007e-01  4.35764847e+11  6.39331818e-01\n",
      "  1.69078949e+11  5.04211426e-01  4.73518372e-02 -1.21364594e-01  5.10025024e-02  3.11355591e-01  5.06946564e-01\n",
      "  2.63474154e+00  1.46362305e-01 -1.98257446e-01  3.81622314e-02  1.82800293e-01  2.81639099e-02 -1.22650146e-01\n",
      "  2.26928711e-01  5.99288940e-02  4.68353271e-01  6.22100830e-02 -3.04008484e-01  1.19150162e-01  6.90612793e-02\n",
      "  5.67169189e-02 -2.79998779e-02  3.14453125e-01  2.59672165e-01  3.75732422e-01  5.75561523e-02  2.44750977e-02\n",
      "  1.66168213e-02  1.37298584e-01 -7.20825195e-02  4.01990446e+11 -9.33685303e-02 -1.75379515e-01  1.18820190e-01\n",
      "  1.80511475e-02]\n",
      "r_sqr value: 0.7549165527473392\n"
     ]
    }
   ],
   "source": [
    "# Perform a Multiple  Linear Regression\n",
    "\n",
    "# Settings the warnings to be ignored\n",
    "warnings.filterwarnings('ignore')\n",
    "\n",
    "#X=train1[['ExterQualB','HeatingQCB',]]\n",
    "X=train1[objects]\n",
    "y=train1['SalePrice']\n",
    "regr = linear_model.LinearRegression()\n",
    "regr.fit(X, y)\n",
    "print(regr.coef_)\n",
    "print(f'r_sqr value: {regr.score(X, y)}')\n"
   ]
  },
  {
   "cell_type": "code",
   "execution_count": 34,
   "metadata": {},
   "outputs": [
    {
     "data": {
      "text/html": [
       "<div>\n",
       "<style scoped>\n",
       "    .dataframe tbody tr th:only-of-type {\n",
       "        vertical-align: middle;\n",
       "    }\n",
       "\n",
       "    .dataframe tbody tr th {\n",
       "        vertical-align: top;\n",
       "    }\n",
       "\n",
       "    .dataframe thead th {\n",
       "        text-align: right;\n",
       "    }\n",
       "</style>\n",
       "<table border=\"1\" class=\"dataframe\">\n",
       "  <thead>\n",
       "    <tr style=\"text-align: right;\">\n",
       "      <th></th>\n",
       "      <th>SalePrice</th>\n",
       "      <th>ExterQualB</th>\n",
       "      <th>HeatingQCB</th>\n",
       "    </tr>\n",
       "  </thead>\n",
       "  <tbody>\n",
       "    <tr>\n",
       "      <th>0</th>\n",
       "      <td>208500</td>\n",
       "      <td>225,188</td>\n",
       "      <td>208,488</td>\n",
       "    </tr>\n",
       "    <tr>\n",
       "      <th>1</th>\n",
       "      <td>181500</td>\n",
       "      <td>147,163</td>\n",
       "      <td>208,488</td>\n",
       "    </tr>\n",
       "    <tr>\n",
       "      <th>2</th>\n",
       "      <td>223500</td>\n",
       "      <td>225,188</td>\n",
       "      <td>208,488</td>\n",
       "    </tr>\n",
       "    <tr>\n",
       "      <th>3</th>\n",
       "      <td>140000</td>\n",
       "      <td>147,163</td>\n",
       "      <td>163,677</td>\n",
       "    </tr>\n",
       "    <tr>\n",
       "      <th>4</th>\n",
       "      <td>250000</td>\n",
       "      <td>225,188</td>\n",
       "      <td>208,488</td>\n",
       "    </tr>\n",
       "    <tr>\n",
       "      <th>...</th>\n",
       "      <td>...</td>\n",
       "      <td>...</td>\n",
       "      <td>...</td>\n",
       "    </tr>\n",
       "    <tr>\n",
       "      <th>1455</th>\n",
       "      <td>175000</td>\n",
       "      <td>147,163</td>\n",
       "      <td>208,488</td>\n",
       "    </tr>\n",
       "    <tr>\n",
       "      <th>1456</th>\n",
       "      <td>210000</td>\n",
       "      <td>147,163</td>\n",
       "      <td>146,928</td>\n",
       "    </tr>\n",
       "    <tr>\n",
       "      <th>1457</th>\n",
       "      <td>266500</td>\n",
       "      <td>335,077</td>\n",
       "      <td>208,488</td>\n",
       "    </tr>\n",
       "    <tr>\n",
       "      <th>1458</th>\n",
       "      <td>142125</td>\n",
       "      <td>147,163</td>\n",
       "      <td>163,677</td>\n",
       "    </tr>\n",
       "    <tr>\n",
       "      <th>1459</th>\n",
       "      <td>147500</td>\n",
       "      <td>225,188</td>\n",
       "      <td>163,677</td>\n",
       "    </tr>\n",
       "  </tbody>\n",
       "</table>\n",
       "<p>1460 rows × 3 columns</p>\n",
       "</div>"
      ],
      "text/plain": [
       "      SalePrice  ExterQualB  HeatingQCB\n",
       "0        208500     225,188     208,488\n",
       "1        181500     147,163     208,488\n",
       "2        223500     225,188     208,488\n",
       "3        140000     147,163     163,677\n",
       "4        250000     225,188     208,488\n",
       "...         ...         ...         ...\n",
       "1455     175000     147,163     208,488\n",
       "1456     210000     147,163     146,928\n",
       "1457     266500     335,077     208,488\n",
       "1458     142125     147,163     163,677\n",
       "1459     147500     225,188     163,677\n",
       "\n",
       "[1460 rows x 3 columns]"
      ]
     },
     "execution_count": 34,
     "metadata": {},
     "output_type": "execute_result"
    }
   ],
   "source": [
    "train1[['SalePrice','ExterQualB','HeatingQCB']]"
   ]
  },
  {
   "cell_type": "code",
   "execution_count": 161,
   "metadata": {},
   "outputs": [
    {
     "data": {
      "text/html": [
       "<div>\n",
       "<style scoped>\n",
       "    .dataframe tbody tr th:only-of-type {\n",
       "        vertical-align: middle;\n",
       "    }\n",
       "\n",
       "    .dataframe tbody tr th {\n",
       "        vertical-align: top;\n",
       "    }\n",
       "\n",
       "    .dataframe thead th {\n",
       "        text-align: right;\n",
       "    }\n",
       "</style>\n",
       "<table border=\"1\" class=\"dataframe\">\n",
       "  <thead>\n",
       "    <tr style=\"text-align: right;\">\n",
       "      <th></th>\n",
       "      <th>Data Type</th>\n",
       "    </tr>\n",
       "  </thead>\n",
       "  <tbody>\n",
       "    <tr>\n",
       "      <th>Id</th>\n",
       "      <td>int64</td>\n",
       "    </tr>\n",
       "    <tr>\n",
       "      <th>MSSubClass</th>\n",
       "      <td>int64</td>\n",
       "    </tr>\n",
       "    <tr>\n",
       "      <th>MSZoning</th>\n",
       "      <td>object</td>\n",
       "    </tr>\n",
       "    <tr>\n",
       "      <th>LotFrontage</th>\n",
       "      <td>object</td>\n",
       "    </tr>\n",
       "    <tr>\n",
       "      <th>LotArea</th>\n",
       "      <td>int64</td>\n",
       "    </tr>\n",
       "    <tr>\n",
       "      <th>Street</th>\n",
       "      <td>object</td>\n",
       "    </tr>\n",
       "    <tr>\n",
       "      <th>Alley</th>\n",
       "      <td>object</td>\n",
       "    </tr>\n",
       "    <tr>\n",
       "      <th>LotShape</th>\n",
       "      <td>object</td>\n",
       "    </tr>\n",
       "    <tr>\n",
       "      <th>LandContour</th>\n",
       "      <td>object</td>\n",
       "    </tr>\n",
       "    <tr>\n",
       "      <th>Utilities</th>\n",
       "      <td>object</td>\n",
       "    </tr>\n",
       "    <tr>\n",
       "      <th>LotConfig</th>\n",
       "      <td>object</td>\n",
       "    </tr>\n",
       "    <tr>\n",
       "      <th>LandSlope</th>\n",
       "      <td>object</td>\n",
       "    </tr>\n",
       "    <tr>\n",
       "      <th>Neighborhood</th>\n",
       "      <td>object</td>\n",
       "    </tr>\n",
       "    <tr>\n",
       "      <th>Condition1</th>\n",
       "      <td>object</td>\n",
       "    </tr>\n",
       "    <tr>\n",
       "      <th>Condition2</th>\n",
       "      <td>object</td>\n",
       "    </tr>\n",
       "    <tr>\n",
       "      <th>BldgType</th>\n",
       "      <td>object</td>\n",
       "    </tr>\n",
       "    <tr>\n",
       "      <th>HouseStyle</th>\n",
       "      <td>object</td>\n",
       "    </tr>\n",
       "    <tr>\n",
       "      <th>OverallQual</th>\n",
       "      <td>int64</td>\n",
       "    </tr>\n",
       "    <tr>\n",
       "      <th>OverallCond</th>\n",
       "      <td>int64</td>\n",
       "    </tr>\n",
       "    <tr>\n",
       "      <th>YearBuilt</th>\n",
       "      <td>int64</td>\n",
       "    </tr>\n",
       "    <tr>\n",
       "      <th>YearRemodAdd</th>\n",
       "      <td>int64</td>\n",
       "    </tr>\n",
       "    <tr>\n",
       "      <th>RoofStyle</th>\n",
       "      <td>object</td>\n",
       "    </tr>\n",
       "    <tr>\n",
       "      <th>RoofMatl</th>\n",
       "      <td>object</td>\n",
       "    </tr>\n",
       "    <tr>\n",
       "      <th>Exterior1st</th>\n",
       "      <td>object</td>\n",
       "    </tr>\n",
       "    <tr>\n",
       "      <th>Exterior2nd</th>\n",
       "      <td>object</td>\n",
       "    </tr>\n",
       "    <tr>\n",
       "      <th>MasVnrType</th>\n",
       "      <td>object</td>\n",
       "    </tr>\n",
       "    <tr>\n",
       "      <th>MasVnrArea</th>\n",
       "      <td>object</td>\n",
       "    </tr>\n",
       "    <tr>\n",
       "      <th>ExterQual</th>\n",
       "      <td>object</td>\n",
       "    </tr>\n",
       "    <tr>\n",
       "      <th>ExterCond</th>\n",
       "      <td>object</td>\n",
       "    </tr>\n",
       "    <tr>\n",
       "      <th>Foundation</th>\n",
       "      <td>object</td>\n",
       "    </tr>\n",
       "    <tr>\n",
       "      <th>BsmtQual</th>\n",
       "      <td>object</td>\n",
       "    </tr>\n",
       "    <tr>\n",
       "      <th>BsmtCond</th>\n",
       "      <td>object</td>\n",
       "    </tr>\n",
       "    <tr>\n",
       "      <th>BsmtExposure</th>\n",
       "      <td>object</td>\n",
       "    </tr>\n",
       "    <tr>\n",
       "      <th>BsmtFinType1</th>\n",
       "      <td>object</td>\n",
       "    </tr>\n",
       "    <tr>\n",
       "      <th>BsmtFinSF1</th>\n",
       "      <td>int64</td>\n",
       "    </tr>\n",
       "    <tr>\n",
       "      <th>BsmtFinType2</th>\n",
       "      <td>object</td>\n",
       "    </tr>\n",
       "    <tr>\n",
       "      <th>BsmtFinSF2</th>\n",
       "      <td>int64</td>\n",
       "    </tr>\n",
       "    <tr>\n",
       "      <th>BsmtUnfSF</th>\n",
       "      <td>int64</td>\n",
       "    </tr>\n",
       "    <tr>\n",
       "      <th>TotalBsmtSF</th>\n",
       "      <td>int64</td>\n",
       "    </tr>\n",
       "    <tr>\n",
       "      <th>Heating</th>\n",
       "      <td>object</td>\n",
       "    </tr>\n",
       "    <tr>\n",
       "      <th>HeatingQC</th>\n",
       "      <td>object</td>\n",
       "    </tr>\n",
       "    <tr>\n",
       "      <th>CentralAir</th>\n",
       "      <td>object</td>\n",
       "    </tr>\n",
       "    <tr>\n",
       "      <th>Electrical</th>\n",
       "      <td>object</td>\n",
       "    </tr>\n",
       "    <tr>\n",
       "      <th>1stFlrSF</th>\n",
       "      <td>int64</td>\n",
       "    </tr>\n",
       "    <tr>\n",
       "      <th>2ndFlrSF</th>\n",
       "      <td>int64</td>\n",
       "    </tr>\n",
       "    <tr>\n",
       "      <th>LowQualFinSF</th>\n",
       "      <td>int64</td>\n",
       "    </tr>\n",
       "    <tr>\n",
       "      <th>GrLivArea</th>\n",
       "      <td>int64</td>\n",
       "    </tr>\n",
       "    <tr>\n",
       "      <th>BsmtFullBath</th>\n",
       "      <td>int64</td>\n",
       "    </tr>\n",
       "    <tr>\n",
       "      <th>BsmtHalfBath</th>\n",
       "      <td>int64</td>\n",
       "    </tr>\n",
       "    <tr>\n",
       "      <th>FullBath</th>\n",
       "      <td>int64</td>\n",
       "    </tr>\n",
       "    <tr>\n",
       "      <th>HalfBath</th>\n",
       "      <td>int64</td>\n",
       "    </tr>\n",
       "    <tr>\n",
       "      <th>BedroomAbvGr</th>\n",
       "      <td>int64</td>\n",
       "    </tr>\n",
       "    <tr>\n",
       "      <th>KitchenAbvGr</th>\n",
       "      <td>int64</td>\n",
       "    </tr>\n",
       "    <tr>\n",
       "      <th>KitchenQual</th>\n",
       "      <td>object</td>\n",
       "    </tr>\n",
       "    <tr>\n",
       "      <th>TotRmsAbvGrd</th>\n",
       "      <td>int64</td>\n",
       "    </tr>\n",
       "    <tr>\n",
       "      <th>Functional</th>\n",
       "      <td>object</td>\n",
       "    </tr>\n",
       "    <tr>\n",
       "      <th>Fireplaces</th>\n",
       "      <td>int64</td>\n",
       "    </tr>\n",
       "    <tr>\n",
       "      <th>FireplaceQu</th>\n",
       "      <td>object</td>\n",
       "    </tr>\n",
       "    <tr>\n",
       "      <th>GarageType</th>\n",
       "      <td>object</td>\n",
       "    </tr>\n",
       "    <tr>\n",
       "      <th>GarageYrBlt</th>\n",
       "      <td>object</td>\n",
       "    </tr>\n",
       "    <tr>\n",
       "      <th>GarageFinish</th>\n",
       "      <td>object</td>\n",
       "    </tr>\n",
       "    <tr>\n",
       "      <th>GarageCars</th>\n",
       "      <td>int64</td>\n",
       "    </tr>\n",
       "    <tr>\n",
       "      <th>GarageArea</th>\n",
       "      <td>int64</td>\n",
       "    </tr>\n",
       "    <tr>\n",
       "      <th>GarageQual</th>\n",
       "      <td>object</td>\n",
       "    </tr>\n",
       "    <tr>\n",
       "      <th>GarageCond</th>\n",
       "      <td>object</td>\n",
       "    </tr>\n",
       "    <tr>\n",
       "      <th>PavedDrive</th>\n",
       "      <td>object</td>\n",
       "    </tr>\n",
       "    <tr>\n",
       "      <th>WoodDeckSF</th>\n",
       "      <td>int64</td>\n",
       "    </tr>\n",
       "    <tr>\n",
       "      <th>OpenPorchSF</th>\n",
       "      <td>int64</td>\n",
       "    </tr>\n",
       "    <tr>\n",
       "      <th>EnclosedPorch</th>\n",
       "      <td>int64</td>\n",
       "    </tr>\n",
       "    <tr>\n",
       "      <th>3SsnPorch</th>\n",
       "      <td>int64</td>\n",
       "    </tr>\n",
       "    <tr>\n",
       "      <th>ScreenPorch</th>\n",
       "      <td>int64</td>\n",
       "    </tr>\n",
       "    <tr>\n",
       "      <th>PoolArea</th>\n",
       "      <td>int64</td>\n",
       "    </tr>\n",
       "    <tr>\n",
       "      <th>PoolQC</th>\n",
       "      <td>object</td>\n",
       "    </tr>\n",
       "    <tr>\n",
       "      <th>Fence</th>\n",
       "      <td>object</td>\n",
       "    </tr>\n",
       "    <tr>\n",
       "      <th>MiscFeature</th>\n",
       "      <td>object</td>\n",
       "    </tr>\n",
       "    <tr>\n",
       "      <th>MiscVal</th>\n",
       "      <td>int64</td>\n",
       "    </tr>\n",
       "    <tr>\n",
       "      <th>MoSold</th>\n",
       "      <td>int64</td>\n",
       "    </tr>\n",
       "    <tr>\n",
       "      <th>YrSold</th>\n",
       "      <td>int64</td>\n",
       "    </tr>\n",
       "    <tr>\n",
       "      <th>SaleType</th>\n",
       "      <td>object</td>\n",
       "    </tr>\n",
       "    <tr>\n",
       "      <th>SaleCondition</th>\n",
       "      <td>object</td>\n",
       "    </tr>\n",
       "    <tr>\n",
       "      <th>SalePrice</th>\n",
       "      <td>int64</td>\n",
       "    </tr>\n",
       "    <tr>\n",
       "      <th>MSZoningB</th>\n",
       "      <td>float64</td>\n",
       "    </tr>\n",
       "    <tr>\n",
       "      <th>StreetB</th>\n",
       "      <td>float64</td>\n",
       "    </tr>\n",
       "    <tr>\n",
       "      <th>AlleyB</th>\n",
       "      <td>float64</td>\n",
       "    </tr>\n",
       "    <tr>\n",
       "      <th>LotShapeB</th>\n",
       "      <td>float64</td>\n",
       "    </tr>\n",
       "    <tr>\n",
       "      <th>LandContourB</th>\n",
       "      <td>float64</td>\n",
       "    </tr>\n",
       "    <tr>\n",
       "      <th>UtilitiesB</th>\n",
       "      <td>float64</td>\n",
       "    </tr>\n",
       "    <tr>\n",
       "      <th>LotConfigB</th>\n",
       "      <td>float64</td>\n",
       "    </tr>\n",
       "    <tr>\n",
       "      <th>LandSlopeB</th>\n",
       "      <td>float64</td>\n",
       "    </tr>\n",
       "    <tr>\n",
       "      <th>NeighborhoodB</th>\n",
       "      <td>float64</td>\n",
       "    </tr>\n",
       "    <tr>\n",
       "      <th>Condition1B</th>\n",
       "      <td>float64</td>\n",
       "    </tr>\n",
       "    <tr>\n",
       "      <th>Condition2B</th>\n",
       "      <td>float64</td>\n",
       "    </tr>\n",
       "    <tr>\n",
       "      <th>BldgTypeB</th>\n",
       "      <td>float64</td>\n",
       "    </tr>\n",
       "    <tr>\n",
       "      <th>HouseStyleB</th>\n",
       "      <td>float64</td>\n",
       "    </tr>\n",
       "    <tr>\n",
       "      <th>RoofStyleB</th>\n",
       "      <td>float64</td>\n",
       "    </tr>\n",
       "    <tr>\n",
       "      <th>RoofMatlB</th>\n",
       "      <td>float64</td>\n",
       "    </tr>\n",
       "    <tr>\n",
       "      <th>Exterior1stB</th>\n",
       "      <td>float64</td>\n",
       "    </tr>\n",
       "    <tr>\n",
       "      <th>Exterior2ndB</th>\n",
       "      <td>float64</td>\n",
       "    </tr>\n",
       "    <tr>\n",
       "      <th>MasVnrTypeB</th>\n",
       "      <td>float64</td>\n",
       "    </tr>\n",
       "    <tr>\n",
       "      <th>ExterQualB</th>\n",
       "      <td>float64</td>\n",
       "    </tr>\n",
       "    <tr>\n",
       "      <th>ExterCondB</th>\n",
       "      <td>float64</td>\n",
       "    </tr>\n",
       "    <tr>\n",
       "      <th>FoundationB</th>\n",
       "      <td>float64</td>\n",
       "    </tr>\n",
       "    <tr>\n",
       "      <th>BsmtQualB</th>\n",
       "      <td>float64</td>\n",
       "    </tr>\n",
       "    <tr>\n",
       "      <th>BsmtCondB</th>\n",
       "      <td>float64</td>\n",
       "    </tr>\n",
       "    <tr>\n",
       "      <th>BsmtExposureB</th>\n",
       "      <td>float64</td>\n",
       "    </tr>\n",
       "    <tr>\n",
       "      <th>BsmtFinType1B</th>\n",
       "      <td>float64</td>\n",
       "    </tr>\n",
       "    <tr>\n",
       "      <th>BsmtFinType2B</th>\n",
       "      <td>float64</td>\n",
       "    </tr>\n",
       "    <tr>\n",
       "      <th>HeatingB</th>\n",
       "      <td>float64</td>\n",
       "    </tr>\n",
       "    <tr>\n",
       "      <th>HeatingQCB</th>\n",
       "      <td>float64</td>\n",
       "    </tr>\n",
       "    <tr>\n",
       "      <th>CentralAirB</th>\n",
       "      <td>float64</td>\n",
       "    </tr>\n",
       "    <tr>\n",
       "      <th>ElectricalB</th>\n",
       "      <td>float64</td>\n",
       "    </tr>\n",
       "    <tr>\n",
       "      <th>KitchenQualB</th>\n",
       "      <td>float64</td>\n",
       "    </tr>\n",
       "    <tr>\n",
       "      <th>FunctionalB</th>\n",
       "      <td>float64</td>\n",
       "    </tr>\n",
       "    <tr>\n",
       "      <th>FireplaceQuB</th>\n",
       "      <td>float64</td>\n",
       "    </tr>\n",
       "    <tr>\n",
       "      <th>GarageTypeB</th>\n",
       "      <td>float64</td>\n",
       "    </tr>\n",
       "    <tr>\n",
       "      <th>GarageFinishB</th>\n",
       "      <td>float64</td>\n",
       "    </tr>\n",
       "    <tr>\n",
       "      <th>GarageQualB</th>\n",
       "      <td>float64</td>\n",
       "    </tr>\n",
       "    <tr>\n",
       "      <th>GarageCondB</th>\n",
       "      <td>float64</td>\n",
       "    </tr>\n",
       "    <tr>\n",
       "      <th>PavedDriveB</th>\n",
       "      <td>float64</td>\n",
       "    </tr>\n",
       "    <tr>\n",
       "      <th>PoolQCB</th>\n",
       "      <td>float64</td>\n",
       "    </tr>\n",
       "    <tr>\n",
       "      <th>FenceB</th>\n",
       "      <td>float64</td>\n",
       "    </tr>\n",
       "    <tr>\n",
       "      <th>MiscFeatureB</th>\n",
       "      <td>float64</td>\n",
       "    </tr>\n",
       "    <tr>\n",
       "      <th>SaleTypeB</th>\n",
       "      <td>float64</td>\n",
       "    </tr>\n",
       "    <tr>\n",
       "      <th>SaleConditionB</th>\n",
       "      <td>float64</td>\n",
       "    </tr>\n",
       "  </tbody>\n",
       "</table>\n",
       "</div>"
      ],
      "text/plain": [
       "               Data Type\n",
       "Id                 int64\n",
       "MSSubClass         int64\n",
       "MSZoning          object\n",
       "LotFrontage       object\n",
       "LotArea            int64\n",
       "Street            object\n",
       "Alley             object\n",
       "LotShape          object\n",
       "LandContour       object\n",
       "Utilities         object\n",
       "LotConfig         object\n",
       "LandSlope         object\n",
       "Neighborhood      object\n",
       "Condition1        object\n",
       "Condition2        object\n",
       "BldgType          object\n",
       "HouseStyle        object\n",
       "OverallQual        int64\n",
       "OverallCond        int64\n",
       "YearBuilt          int64\n",
       "YearRemodAdd       int64\n",
       "RoofStyle         object\n",
       "RoofMatl          object\n",
       "Exterior1st       object\n",
       "Exterior2nd       object\n",
       "MasVnrType        object\n",
       "MasVnrArea        object\n",
       "ExterQual         object\n",
       "ExterCond         object\n",
       "Foundation        object\n",
       "BsmtQual          object\n",
       "BsmtCond          object\n",
       "BsmtExposure      object\n",
       "BsmtFinType1      object\n",
       "BsmtFinSF1         int64\n",
       "BsmtFinType2      object\n",
       "BsmtFinSF2         int64\n",
       "BsmtUnfSF          int64\n",
       "TotalBsmtSF        int64\n",
       "Heating           object\n",
       "HeatingQC         object\n",
       "CentralAir        object\n",
       "Electrical        object\n",
       "1stFlrSF           int64\n",
       "2ndFlrSF           int64\n",
       "LowQualFinSF       int64\n",
       "GrLivArea          int64\n",
       "BsmtFullBath       int64\n",
       "BsmtHalfBath       int64\n",
       "FullBath           int64\n",
       "HalfBath           int64\n",
       "BedroomAbvGr       int64\n",
       "KitchenAbvGr       int64\n",
       "KitchenQual       object\n",
       "TotRmsAbvGrd       int64\n",
       "Functional        object\n",
       "Fireplaces         int64\n",
       "FireplaceQu       object\n",
       "GarageType        object\n",
       "GarageYrBlt       object\n",
       "GarageFinish      object\n",
       "GarageCars         int64\n",
       "GarageArea         int64\n",
       "GarageQual        object\n",
       "GarageCond        object\n",
       "PavedDrive        object\n",
       "WoodDeckSF         int64\n",
       "OpenPorchSF        int64\n",
       "EnclosedPorch      int64\n",
       "3SsnPorch          int64\n",
       "ScreenPorch        int64\n",
       "PoolArea           int64\n",
       "PoolQC            object\n",
       "Fence             object\n",
       "MiscFeature       object\n",
       "MiscVal            int64\n",
       "MoSold             int64\n",
       "YrSold             int64\n",
       "SaleType          object\n",
       "SaleCondition     object\n",
       "SalePrice          int64\n",
       "MSZoningB        float64\n",
       "StreetB          float64\n",
       "AlleyB           float64\n",
       "LotShapeB        float64\n",
       "LandContourB     float64\n",
       "UtilitiesB       float64\n",
       "LotConfigB       float64\n",
       "LandSlopeB       float64\n",
       "NeighborhoodB    float64\n",
       "Condition1B      float64\n",
       "Condition2B      float64\n",
       "BldgTypeB        float64\n",
       "HouseStyleB      float64\n",
       "RoofStyleB       float64\n",
       "RoofMatlB        float64\n",
       "Exterior1stB     float64\n",
       "Exterior2ndB     float64\n",
       "MasVnrTypeB      float64\n",
       "ExterQualB       float64\n",
       "ExterCondB       float64\n",
       "FoundationB      float64\n",
       "BsmtQualB        float64\n",
       "BsmtCondB        float64\n",
       "BsmtExposureB    float64\n",
       "BsmtFinType1B    float64\n",
       "BsmtFinType2B    float64\n",
       "HeatingB         float64\n",
       "HeatingQCB       float64\n",
       "CentralAirB      float64\n",
       "ElectricalB      float64\n",
       "KitchenQualB     float64\n",
       "FunctionalB      float64\n",
       "FireplaceQuB     float64\n",
       "GarageTypeB      float64\n",
       "GarageFinishB    float64\n",
       "GarageQualB      float64\n",
       "GarageCondB      float64\n",
       "PavedDriveB      float64\n",
       "PoolQCB          float64\n",
       "FenceB           float64\n",
       "MiscFeatureB     float64\n",
       "SaleTypeB        float64\n",
       "SaleConditionB   float64"
      ]
     },
     "execution_count": 161,
     "metadata": {},
     "output_type": "execute_result"
    }
   ],
   "source": [
    "input_dtypes = pd.DataFrame(train1.dtypes, columns=[\"Data Type\"])\n",
    "input_dtypes"
   ]
  },
  {
   "cell_type": "code",
   "execution_count": 163,
   "metadata": {},
   "outputs": [
    {
     "data": {
      "text/plain": [
       "Index(['Id', 'MSSubClass', 'MSZoning', 'LotFrontage', 'LotArea', 'Street',\n",
       "       'Alley', 'LotShape', 'LandContour', 'Utilities',\n",
       "       ...\n",
       "       'GarageTypeB', 'GarageFinishB', 'GarageQualB', 'GarageCondB',\n",
       "       'PavedDriveB', 'PoolQCB', 'FenceB', 'MiscFeatureB', 'SaleTypeB',\n",
       "       'SaleConditionB'],\n",
       "      dtype='object', length=124)"
      ]
     },
     "execution_count": 163,
     "metadata": {},
     "output_type": "execute_result"
    }
   ],
   "source": [
    "train1.keys()"
   ]
  },
  {
   "cell_type": "code",
   "execution_count": 164,
   "metadata": {},
   "outputs": [
    {
     "data": {
      "text/plain": [
       "dtype('int64')"
      ]
     },
     "execution_count": 164,
     "metadata": {},
     "output_type": "execute_result"
    }
   ],
   "source": [
    "train1.index.dtype"
   ]
  }
 ],
 "metadata": {
  "kernelspec": {
   "display_name": "base",
   "language": "python",
   "name": "python3"
  },
  "language_info": {
   "codemirror_mode": {
    "name": "ipython",
    "version": 3
   },
   "file_extension": ".py",
   "mimetype": "text/x-python",
   "name": "python",
   "nbconvert_exporter": "python",
   "pygments_lexer": "ipython3",
   "version": "3.11.5"
  }
 },
 "nbformat": 4,
 "nbformat_minor": 2
}
